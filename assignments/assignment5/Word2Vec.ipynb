{
  "nbformat": 4,
  "nbformat_minor": 0,
  "metadata": {
    "kernelspec": {
      "display_name": "Python 3",
      "language": "python",
      "name": "python3"
    },
    "language_info": {
      "codemirror_mode": {
        "name": "ipython",
        "version": 3
      },
      "file_extension": ".py",
      "mimetype": "text/x-python",
      "name": "python",
      "nbconvert_exporter": "python",
      "pygments_lexer": "ipython3",
      "version": "3.7.3"
    },
    "colab": {
      "name": "Word2Vec.ipynb",
      "provenance": [],
      "toc_visible": true
    }
  },
  "cells": [
    {
      "cell_type": "markdown",
      "metadata": {
        "id": "TF6Fz_N4zhUO",
        "colab_type": "text"
      },
      "source": [
        "# Задание 5.1 - Word2Vec\n",
        "\n",
        "В этом задании мы натренируем свои word vectors на очень небольшом датасете.\n",
        "Мы будем использовать самую простую версию word2vec, без negative sampling и других оптимизаций.\n",
        "\n",
        "Перед запуском нужно запустить скрипт `download_data.sh` чтобы скачать данные.\n",
        "\n",
        "Датасет и модель очень небольшие, поэтому это задание можно выполнить и без GPU."
      ]
    },
    {
      "cell_type": "code",
      "metadata": {
        "id": "bUQgGKWl0FhW",
        "colab_type": "code",
        "colab": {
          "base_uri": "https://localhost:8080/",
          "height": 578
        },
        "outputId": "1cf464fe-15f5-4d59-e2da-d694b958acce"
      },
      "source": [
        "!wget http://nlp.stanford.edu/~socherr/stanfordSentimentTreebank.zip\n",
        "!unzip stanfordSentimentTreebank.zip\n",
        "!rm stanfordSentimentTreebank.zip\n",
        "!pip3 install -q torch torchvision scikit-learn numpy matplotlib"
      ],
      "execution_count": 1,
      "outputs": [
        {
          "output_type": "stream",
          "text": [
            "--2020-05-31 08:20:25--  http://nlp.stanford.edu/~socherr/stanfordSentimentTreebank.zip\n",
            "Resolving nlp.stanford.edu (nlp.stanford.edu)... 171.64.67.140\n",
            "Connecting to nlp.stanford.edu (nlp.stanford.edu)|171.64.67.140|:80... connected.\n",
            "HTTP request sent, awaiting response... 302 Found\n",
            "Location: https://nlp.stanford.edu/~socherr/stanfordSentimentTreebank.zip [following]\n",
            "--2020-05-31 08:20:25--  https://nlp.stanford.edu/~socherr/stanfordSentimentTreebank.zip\n",
            "Connecting to nlp.stanford.edu (nlp.stanford.edu)|171.64.67.140|:443... connected.\n",
            "HTTP request sent, awaiting response... 200 OK\n",
            "Length: 6372817 (6.1M) [application/zip]\n",
            "Saving to: ‘stanfordSentimentTreebank.zip’\n",
            "\n",
            "stanfordSentimentTr 100%[===================>]   6.08M  4.63MB/s    in 1.3s    \n",
            "\n",
            "2020-05-31 08:20:26 (4.63 MB/s) - ‘stanfordSentimentTreebank.zip’ saved [6372817/6372817]\n",
            "\n",
            "Archive:  stanfordSentimentTreebank.zip\n",
            "   creating: stanfordSentimentTreebank/\n",
            "  inflating: stanfordSentimentTreebank/datasetSentences.txt  \n",
            "   creating: __MACOSX/\n",
            "   creating: __MACOSX/stanfordSentimentTreebank/\n",
            "  inflating: __MACOSX/stanfordSentimentTreebank/._datasetSentences.txt  \n",
            "  inflating: stanfordSentimentTreebank/datasetSplit.txt  \n",
            "  inflating: __MACOSX/stanfordSentimentTreebank/._datasetSplit.txt  \n",
            "  inflating: stanfordSentimentTreebank/dictionary.txt  \n",
            "  inflating: __MACOSX/stanfordSentimentTreebank/._dictionary.txt  \n",
            "  inflating: stanfordSentimentTreebank/original_rt_snippets.txt  \n",
            "  inflating: __MACOSX/stanfordSentimentTreebank/._original_rt_snippets.txt  \n",
            "  inflating: stanfordSentimentTreebank/README.txt  \n",
            "  inflating: __MACOSX/stanfordSentimentTreebank/._README.txt  \n",
            "  inflating: stanfordSentimentTreebank/sentiment_labels.txt  \n",
            "  inflating: __MACOSX/stanfordSentimentTreebank/._sentiment_labels.txt  \n",
            "  inflating: stanfordSentimentTreebank/SOStr.txt  \n",
            "  inflating: stanfordSentimentTreebank/STree.txt  \n"
          ],
          "name": "stdout"
        }
      ]
    },
    {
      "cell_type": "code",
      "metadata": {
        "id": "sfdjZQybzhUP",
        "colab_type": "code",
        "colab": {}
      },
      "source": [
        "import torch\n",
        "import torch.nn as nn\n",
        "import torch.optim as optim\n",
        "from torch.utils.data import Dataset\n",
        "\n",
        "from torchvision import transforms\n",
        "\n",
        "import numpy as np\n",
        "import matplotlib.pyplot as plt\n",
        "\n",
        "# We'll use Principal Component Analysis (PCA) to visualize word vectors,\n",
        "# so make sure you install dependencies from requirements.txt!\n",
        "from sklearn.decomposition import PCA \n",
        "\n",
        "%matplotlib inline"
      ],
      "execution_count": 0,
      "outputs": []
    },
    {
      "cell_type": "code",
      "metadata": {
        "id": "XPrT15G1zhUS",
        "colab_type": "code",
        "colab": {
          "base_uri": "https://localhost:8080/",
          "height": 119
        },
        "outputId": "ee1f9ed6-fc37-4fe9-c6ed-66576469acf2"
      },
      "source": [
        "import os\n",
        "import numpy as np\n",
        "\n",
        "class StanfordTreeBank:\n",
        "    '''\n",
        "    Wrapper for accessing Stanford Tree Bank Dataset\n",
        "    https://nlp.stanford.edu/sentiment/treebank.html\n",
        "    \n",
        "    Parses dataset, gives each token and index and provides lookups\n",
        "    from string token to index and back\n",
        "    \n",
        "    Allows to generate random context with sampling strategy described in\n",
        "    word2vec paper:\n",
        "    https://papers.nips.cc/paper/5021-distributed-representations-of-words-and-phrases-and-their-compositionality.pdf\n",
        "    '''\n",
        "    def __init__(self):\n",
        "        self.index_by_token = {}\n",
        "        self.token_by_index = []\n",
        "\n",
        "        self.sentences = []\n",
        "\n",
        "        self.token_freq = {}\n",
        "        \n",
        "        self.token_reject_by_index = None\n",
        "\n",
        "    def load_dataset(self, folder):\n",
        "        filename = os.path.join(folder, \"datasetSentences.txt\")\n",
        "\n",
        "        with open(filename, \"r\", encoding=\"latin1\") as f:\n",
        "            l = f.readline() # skip the first line\n",
        "            \n",
        "            for l in f:\n",
        "                splitted_line = l.strip().split()\n",
        "                words = [w.lower() for w in splitted_line[1:]] # First one is a number\n",
        "                    \n",
        "                self.sentences.append(words)\n",
        "                for word in words:\n",
        "                    if word in self.token_freq:\n",
        "                        self.token_freq[word] +=1 \n",
        "                    else:\n",
        "                        index = len(self.token_by_index)\n",
        "                        self.token_freq[word] = 1\n",
        "                        self.index_by_token[word] = index\n",
        "                        self.token_by_index.append(word)\n",
        "        self.compute_token_prob()\n",
        "                        \n",
        "    def compute_token_prob(self):\n",
        "        words_count = np.array([self.token_freq[token] for token in self.token_by_index])\n",
        "        words_freq = words_count / np.sum(words_count)\n",
        "        \n",
        "        # Following sampling strategy from word2vec paper:\n",
        "        # https://papers.nips.cc/paper/5021-distributed-representations-of-words-and-phrases-and-their-compositionality.pdf\n",
        "        self.token_reject_by_index = 1- np.sqrt(1e-5/words_freq)\n",
        "    \n",
        "    def check_reject(self, word):\n",
        "        return np.random.rand() > self.token_reject_by_index[self.index_by_token[word]]\n",
        "        \n",
        "    def get_random_context(self, context_length=5):\n",
        "        \"\"\"\n",
        "        Returns tuple of center word and list of context words\n",
        "        \"\"\"\n",
        "        sentence_sampled = []\n",
        "        while len(sentence_sampled) <= 2:\n",
        "            sentence_index = np.random.randint(len(self.sentences)) \n",
        "            sentence = self.sentences[sentence_index]\n",
        "            sentence_sampled = [word for word in sentence if self.check_reject(word)]\n",
        "    \n",
        "        center_word_index = np.random.randint(len(sentence_sampled))\n",
        "        \n",
        "        words_before = sentence_sampled[max(center_word_index - context_length//2,0):center_word_index]\n",
        "        words_after = sentence_sampled[center_word_index+1: center_word_index+1+context_length//2]\n",
        "        \n",
        "        return sentence_sampled[center_word_index], words_before+words_after\n",
        "    \n",
        "    def num_tokens(self):\n",
        "        return len(self.token_by_index)\n",
        "        \n",
        "data = StanfordTreeBank()\n",
        "data.load_dataset(\"./stanfordSentimentTreebank/\")\n",
        "\n",
        "print(\"Num tokens:\", data.num_tokens())\n",
        "for i in range(5):\n",
        "    center_word, other_words = data.get_random_context(5)\n",
        "    print(center_word, other_words)"
      ],
      "execution_count": 3,
      "outputs": [
        {
          "output_type": "stream",
          "text": [
            "Num tokens: 19538\n",
            "soft ['syrup', 'fizz']\n",
            "wedding ['my', 'not', 'it']\n",
            "screwups ['occasionally', 'bone-crushing']\n",
            "soundtrack ['gorgeous', 'strings', 'drown', 'tinny']\n",
            "competition ['spectacle', 'small-town']\n"
          ],
          "name": "stdout"
        }
      ]
    },
    {
      "cell_type": "markdown",
      "metadata": {
        "id": "Md_y71SqzhUV",
        "colab_type": "text"
      },
      "source": [
        "# Имплеменируем PyTorch-style Dataset для Word2Vec\n",
        "\n",
        "Этот Dataset должен сгенерировать много случайных контекстов и превратить их в сэмплы для тренировки.\n",
        "\n",
        "Напоминаем, что word2vec модель получает на вход One-hot вектор слова и тренирует простую сеть для предсказания на его основе соседних слов.\n",
        "Из набора слово-контекст создается N сэмплов (где N - количество слов в контексте):\n",
        "\n",
        "Например:\n",
        "\n",
        "Слово: `orders` и контекст: `['love', 'nicest', 'to', '50-year']` создадут 4 сэмпла:\n",
        "- input: `orders`, target: `love`\n",
        "- input: `orders`, target: `nicest`\n",
        "- input: `orders`, target: `to`\n",
        "- input: `orders`, target: `50-year`\n",
        "\n",
        "Все слова на входе и на выходе закодированы через one-hot encoding, с размером вектора равным количеству токенов."
      ]
    },
    {
      "cell_type": "code",
      "metadata": {
        "id": "xzsdkZcnzhUV",
        "colab_type": "code",
        "colab": {
          "base_uri": "https://localhost:8080/",
          "height": 34
        },
        "outputId": "8e0fe0e1-0212-4b11-c086-654b7b800396"
      },
      "source": [
        "class Word2VecPlain(Dataset):\n",
        "    '''\n",
        "    PyTorch Dataset for plain Word2Vec.\n",
        "    Accepts StanfordTreebank as data and is able to generate dataset based on\n",
        "    a number of random contexts\n",
        "    '''\n",
        "    def __init__(self, data, num_contexts=30000):\n",
        "        '''\n",
        "        Initializes Word2VecPlain, but doesn't generate the samples yet\n",
        "        (for that, use generate_dataset)\n",
        "        Arguments:\n",
        "        data - StanfordTreebank instace\n",
        "        num_contexts - number of random contexts to use when generating a dataset\n",
        "        '''\n",
        "        # TODO: Implement what you need for other methods!\n",
        "        self.data = data\n",
        "        self.num_contexts = num_contexts\n",
        "        self.dataset = []\n",
        "        self.num_tokens = data.num_tokens()\n",
        "    \n",
        "    def generate_dataset(self):\n",
        "        '''\n",
        "        Generates dataset samples from random contexts\n",
        "        Note: there will be more samples than contexts because every context\n",
        "        can generate more than one sample\n",
        "        '''\n",
        "        \n",
        "        # TODO: Implement generating the dataset\n",
        "        # You should sample num_contexts contexts from the data and turn them into samples\n",
        "        # Note you will have several samples from one context\n",
        "        for i in range(self.num_contexts):\n",
        "            center_word, other_words = self.data.get_random_context(5)\n",
        "            for ow in other_words:\n",
        "                self.dataset.append([center_word, ow])\n",
        "                \n",
        "    def __len__(self):\n",
        "        '''\n",
        "        Returns total number of samples\n",
        "        '''\n",
        "        # TODO: Return the number of samples\n",
        "        return len(self.dataset)\n",
        "    \n",
        "    def __getitem__(self, index):\n",
        "        '''\n",
        "        Returns i-th sample\n",
        "        \n",
        "        Return values:\n",
        "        input_vector - torch.Tensor with one-hot representation of the input vector\n",
        "        output_index - index of the target word (not torch.Tensor!)\n",
        "        '''\n",
        "        # TODO: Generate tuple of 2 return arguments for i-th sample\n",
        "        xw, yw = self.dataset[index]\n",
        "        x = np.zeros(self.num_tokens)\n",
        "        x[self.data.index_by_token[yw]] = 1\n",
        "        x = torch.from_numpy(x).float()\n",
        "        \n",
        "        y = self.data.index_by_token[xw]\n",
        "        \n",
        "        return x, y\n",
        "\n",
        "dataset = Word2VecPlain(data, 10)\n",
        "dataset.generate_dataset()\n",
        "input_vector, target = dataset[3]\n",
        "print(\"Sample - input: %s, target: %s\" % (input_vector, int(target))) # target should be able to convert to int\n",
        "assert isinstance(input_vector, torch.Tensor)\n",
        "assert torch.sum(input_vector) == 1.0\n",
        "assert input_vector.shape[0] == data.num_tokens()"
      ],
      "execution_count": 4,
      "outputs": [
        {
          "output_type": "stream",
          "text": [
            "Sample - input: tensor([0., 0., 0.,  ..., 0., 0., 0.]), target: 13880\n"
          ],
          "name": "stdout"
        }
      ]
    },
    {
      "cell_type": "markdown",
      "metadata": {
        "id": "4Lh7qNlCzhUY",
        "colab_type": "text"
      },
      "source": [
        "# Создаем модель и тренируем ее"
      ]
    },
    {
      "cell_type": "code",
      "metadata": {
        "id": "WkZz0VeXzhUY",
        "colab_type": "code",
        "colab": {
          "base_uri": "https://localhost:8080/",
          "height": 85
        },
        "outputId": "ab15962d-13d5-4b60-9d57-03dbe5c86a0c"
      },
      "source": [
        "# Create the usual PyTorch structures\n",
        "dataset = Word2VecPlain(data, 30000)\n",
        "dataset.generate_dataset()\n",
        "\n",
        "# We'll be training very small word vectors!\n",
        "wordvec_dim = 10\n",
        "\n",
        "# We can use a standard sequential model for this\n",
        "nn_model = nn.Sequential(\n",
        "            nn.Linear(dataset.num_tokens, wordvec_dim, bias=False).float(),\n",
        "            nn.Linear(wordvec_dim, dataset.num_tokens, bias=False).float(), \n",
        "         )\n",
        "nn_model.type(torch.FloatTensor)"
      ],
      "execution_count": 5,
      "outputs": [
        {
          "output_type": "execute_result",
          "data": {
            "text/plain": [
              "Sequential(\n",
              "  (0): Linear(in_features=19538, out_features=10, bias=False)\n",
              "  (1): Linear(in_features=10, out_features=19538, bias=False)\n",
              ")"
            ]
          },
          "metadata": {
            "tags": []
          },
          "execution_count": 5
        }
      ]
    },
    {
      "cell_type": "code",
      "metadata": {
        "id": "ERyx7FjXzhUb",
        "colab_type": "code",
        "colab": {}
      },
      "source": [
        "def extract_word_vectors(nn_model):\n",
        "    '''\n",
        "    Extracts word vectors from the model\n",
        "    \n",
        "    Returns:\n",
        "    input_vectors: torch.Tensor with dimensions (num_tokens, num_dimensions)\n",
        "    output_vectors: torch.Tensor with dimensions (num_tokens, num_dimensions)\n",
        "    '''\n",
        "    # TODO: Implement extracting word vectors from param weights\n",
        "    # return tuple of input vectors and output vectos \n",
        "    # Hint: you can access weights as Tensors through nn.Linear class attributes\n",
        "    return torch.transpose(nn_model[0].weight.data.clone(), 0, 1), nn_model[1].weight.data.clone()\n",
        "    \n",
        "\n",
        "untrained_input_vectors, untrained_output_vectors = extract_word_vectors(nn_model)\n",
        "assert untrained_input_vectors.shape == (data.num_tokens(), wordvec_dim)\n",
        "assert untrained_output_vectors.shape == (data.num_tokens(), wordvec_dim)"
      ],
      "execution_count": 0,
      "outputs": []
    },
    {
      "cell_type": "code",
      "metadata": {
        "id": "5IrsmyqhzhUd",
        "colab_type": "code",
        "colab": {}
      },
      "source": [
        "def train_model(model, dataset, train_loader, optimizer, scheduler, num_epochs):\n",
        "    '''\n",
        "    Trains plain word2vec using cross-entropy loss and regenerating dataset every epoch\n",
        "    \n",
        "    Returns:\n",
        "    loss_history, train_history\n",
        "    '''\n",
        "    \n",
        "    loss = nn.CrossEntropyLoss().type(torch.FloatTensor)\n",
        "    \n",
        "    loss_history = []\n",
        "    train_history = []\n",
        "    for epoch in range(num_epochs):\n",
        "        model.train() # Enter train mode\n",
        "        \n",
        "        dataset.generate_dataset() # Regenerate dataset every epoch\n",
        "        \n",
        "        # TODO Implement training for this model\n",
        "        # Note we don't have any validation set here because our purpose is the word vectors,\n",
        "        # not the predictive performance of the model\n",
        "        #\n",
        "        # And don't forget to step the learing rate scheduler!\n",
        "        loss_accum = 0\n",
        "        correct_samples = 0\n",
        "        total_samples = 0\n",
        "        for i_step, (x, y) in enumerate(train_loader):\n",
        "            prediction = model(x)\n",
        "            loss_value = loss(prediction, y)\n",
        "            optimizer.zero_grad()\n",
        "            loss_value.backward()\n",
        "            optimizer.step()\n",
        "            loss_accum += loss_value\n",
        "            \n",
        "            _, indices = torch.max(prediction, 1)\n",
        "            correct_samples += torch.sum(indices == y)\n",
        "            total_samples += y.shape[0]\n",
        "            \n",
        "        ave_loss = loss_accum / i_step\n",
        "        train_accuracy = float(correct_samples) / total_samples\n",
        "\n",
        "        loss_history.append(float(ave_loss))\n",
        "        train_history.append(train_accuracy)\n",
        "        \n",
        "        print(\"Epoch %i, Average loss: %f, Train accuracy: %f\" % (epoch, ave_loss, train_accuracy))\n",
        "        \n",
        "    return loss_history, train_history"
      ],
      "execution_count": 0,
      "outputs": []
    },
    {
      "cell_type": "markdown",
      "metadata": {
        "id": "gEITtEyTzhUf",
        "colab_type": "text"
      },
      "source": [
        "# Ну и наконец тренировка!\n",
        "\n",
        "Добейтесь значения ошибки меньше **8.0**."
      ]
    },
    {
      "cell_type": "code",
      "metadata": {
        "id": "SZjC0MbjzhUg",
        "colab_type": "code",
        "colab": {
          "base_uri": "https://localhost:8080/",
          "height": 697
        },
        "outputId": "342b00f8-10a3-4d83-f59d-e85684316ee1"
      },
      "source": [
        "# Finally, let's train the model!\n",
        "\n",
        "# TODO: We use placeholder values for hyperparameters - you will need to find better values!\n",
        "optimizer = optim.SGD(nn_model.parameters(), lr=1e-1, weight_decay=0)\n",
        "scheduler = optim.lr_scheduler.StepLR(optimizer, step_size=10, gamma=0.1)\n",
        "train_loader = torch.utils.data.DataLoader(dataset, batch_size=20)\n",
        "\n",
        "loss_history, train_history = train_model(nn_model, dataset, train_loader, optimizer, scheduler, 40)"
      ],
      "execution_count": 8,
      "outputs": [
        {
          "output_type": "stream",
          "text": [
            "Epoch 0, Average loss: 9.881001, Train accuracy: 0.000157\n",
            "Epoch 1, Average loss: 9.878433, Train accuracy: 0.001322\n",
            "Epoch 2, Average loss: 9.875867, Train accuracy: 0.002860\n",
            "Epoch 3, Average loss: 9.873693, Train accuracy: 0.004220\n",
            "Epoch 4, Average loss: 9.870988, Train accuracy: 0.004983\n",
            "Epoch 5, Average loss: 9.867650, Train accuracy: 0.005506\n",
            "Epoch 6, Average loss: 9.863467, Train accuracy: 0.006136\n",
            "Epoch 7, Average loss: 9.857495, Train accuracy: 0.006520\n",
            "Epoch 8, Average loss: 9.847660, Train accuracy: 0.006638\n",
            "Epoch 9, Average loss: 9.824868, Train accuracy: 0.006641\n",
            "Epoch 10, Average loss: 9.773038, Train accuracy: 0.006607\n",
            "Epoch 11, Average loss: 9.684370, Train accuracy: 0.006235\n",
            "Epoch 12, Average loss: 9.574657, Train accuracy: 0.005765\n",
            "Epoch 13, Average loss: 9.469084, Train accuracy: 0.005474\n",
            "Epoch 14, Average loss: 9.379511, Train accuracy: 0.005270\n",
            "Epoch 15, Average loss: 9.301715, Train accuracy: 0.005156\n",
            "Epoch 16, Average loss: 9.228629, Train accuracy: 0.005316\n",
            "Epoch 17, Average loss: 9.151834, Train accuracy: 0.005889\n",
            "Epoch 18, Average loss: 9.067825, Train accuracy: 0.006956\n",
            "Epoch 19, Average loss: 8.975530, Train accuracy: 0.008596\n",
            "Epoch 20, Average loss: 8.876379, Train accuracy: 0.010908\n",
            "Epoch 21, Average loss: 8.773086, Train accuracy: 0.013866\n",
            "Epoch 22, Average loss: 8.669127, Train accuracy: 0.017256\n",
            "Epoch 23, Average loss: 8.566464, Train accuracy: 0.020398\n",
            "Epoch 24, Average loss: 8.468029, Train accuracy: 0.023436\n",
            "Epoch 25, Average loss: 8.375015, Train accuracy: 0.026529\n",
            "Epoch 26, Average loss: 8.288332, Train accuracy: 0.029262\n",
            "Epoch 27, Average loss: 8.207468, Train accuracy: 0.031479\n",
            "Epoch 28, Average loss: 8.133441, Train accuracy: 0.033353\n",
            "Epoch 29, Average loss: 8.064446, Train accuracy: 0.035089\n",
            "Epoch 30, Average loss: 8.000522, Train accuracy: 0.036512\n",
            "Epoch 31, Average loss: 7.941432, Train accuracy: 0.037817\n",
            "Epoch 32, Average loss: 7.887745, Train accuracy: 0.038989\n",
            "Epoch 33, Average loss: 7.837974, Train accuracy: 0.040230\n",
            "Epoch 34, Average loss: 7.791933, Train accuracy: 0.041229\n",
            "Epoch 35, Average loss: 7.749317, Train accuracy: 0.042259\n",
            "Epoch 36, Average loss: 7.709396, Train accuracy: 0.043121\n",
            "Epoch 37, Average loss: 7.673709, Train accuracy: 0.043868\n",
            "Epoch 38, Average loss: 7.640885, Train accuracy: 0.044504\n",
            "Epoch 39, Average loss: 7.610404, Train accuracy: 0.045195\n"
          ],
          "name": "stdout"
        }
      ]
    },
    {
      "cell_type": "code",
      "metadata": {
        "id": "1yIJKbQMzhUi",
        "colab_type": "code",
        "colab": {
          "base_uri": "https://localhost:8080/",
          "height": 282
        },
        "outputId": "bd5edcdb-20db-4960-a4af-5b08475f25e7"
      },
      "source": [
        "# Visualize training graphs\n",
        "plt.subplot(211)\n",
        "plt.plot(train_history)\n",
        "plt.subplot(212)\n",
        "plt.plot(loss_history)"
      ],
      "execution_count": 9,
      "outputs": [
        {
          "output_type": "execute_result",
          "data": {
            "text/plain": [
              "[<matplotlib.lines.Line2D at 0x7f7b384177b8>]"
            ]
          },
          "metadata": {
            "tags": []
          },
          "execution_count": 9
        },
        {
          "output_type": "display_data",
          "data": {
            "image/png": "[encoded data removed]",
            "text/plain": [
              "<Figure size 432x288 with 2 Axes>"
            ]
          },
          "metadata": {
            "tags": [],
            "needs_background": "light"
          }
        }
      ]
    },
    {
      "cell_type": "markdown",
      "metadata": {
        "id": "FPe680zyzhUm",
        "colab_type": "text"
      },
      "source": [
        "# Визуализируем вектора для разного вида слов до и после тренировки\n",
        "\n",
        "В случае успешной тренировки вы должны увидеть как вектора слов разных типов (например, знаков препинания, предлогов и остальных) разделяются семантически.\n",
        "\n",
        "Студенты - в качестве выполненного задания присылайте notebook с диаграммами!"
      ]
    },
    {
      "cell_type": "code",
      "metadata": {
        "id": "HtBcuqATzhUn",
        "colab_type": "code",
        "colab": {
          "base_uri": "https://localhost:8080/",
          "height": 941
        },
        "outputId": "ec3094c4-5e54-4ef8-8491-5eee85aaf319"
      },
      "source": [
        "trained_input_vectors, trained_output_vectors = extract_word_vectors(nn_model)\n",
        "assert trained_input_vectors.shape == (data.num_tokens(), wordvec_dim)\n",
        "assert trained_output_vectors.shape == (data.num_tokens(), wordvec_dim)\n",
        "\n",
        "def visualize_vectors(input_vectors, output_vectors, title=''):\n",
        "    full_vectors = torch.cat((input_vectors, output_vectors), 0)\n",
        "    wordvec_embedding = PCA(n_components=2).fit_transform(full_vectors)\n",
        "\n",
        "    # Helpful words form CS244D example\n",
        "    # http://cs224d.stanford.edu/assignment1/index.html\n",
        "    visualize_words = {'green': [\"the\", \"a\", \"an\"], \n",
        "                      'blue': [\",\", \".\", \"?\", \"!\", \"``\", \"''\", \"--\"], \n",
        "                      'brown': [\"good\", \"great\", \"cool\", \"brilliant\", \"wonderful\", \n",
        "                              \"well\", \"amazing\", \"worth\", \"sweet\", \"enjoyable\"],\n",
        "                      'orange': [\"boring\", \"bad\", \"waste\", \"dumb\", \"annoying\", \"stupid\"],\n",
        "                      'red': ['tell', 'told', 'said', 'say', 'says', 'tells', 'goes', 'go', 'went']\n",
        "                     }\n",
        "\n",
        "    plt.figure(figsize=(7,7))\n",
        "    plt.suptitle(title)\n",
        "    for color, words in visualize_words.items():\n",
        "        points = np.array([wordvec_embedding[data.index_by_token[w]] for w in words])\n",
        "        for i, word in enumerate(words):\n",
        "            plt.text(points[i, 0], points[i, 1], word, color=color,horizontalalignment='center')\n",
        "        plt.scatter(points[:, 0], points[:, 1], c=color, alpha=0.3, s=0.5)\n",
        "\n",
        "visualize_vectors(untrained_input_vectors, untrained_output_vectors, \"Untrained word vectors\")\n",
        "visualize_vectors(trained_input_vectors, trained_output_vectors, \"Trained word vectors\")"
      ],
      "execution_count": 12,
      "outputs": [
        {
          "output_type": "display_data",
          "data": {
            "image/png": "[encoded data removed]",
            "text/plain": [
              "<Figure size 504x504 with 1 Axes>"
            ]
          },
          "metadata": {
            "tags": [],
            "needs_background": "light"
          }
        },
        {
          "output_type": "display_data",
          "data": {
            "image/png": "[encoded data removed]",
            "text/plain": [
              "<Figure size 504x504 with 1 Axes>"
            ]
          },
          "metadata": {
            "tags": [],
            "needs_background": "light"
          }
        }
      ]
    },
    {
      "cell_type": "code",
      "metadata": {
        "id": "rcj1QOKIzhUp",
        "colab_type": "code",
        "colab": {}
      },
      "source": [
        ""
      ],
      "execution_count": 0,
      "outputs": []
    }
  ]
}