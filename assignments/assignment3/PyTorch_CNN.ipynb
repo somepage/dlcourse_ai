{
  "nbformat": 4,
  "nbformat_minor": 0,
  "metadata": {
    "accelerator": "GPU",
    "colab": {
      "name": "PyTorch_CNN.ipynb",
      "provenance": [],
      "collapsed_sections": [],
      "toc_visible": true
    },
    "kernelspec": {
      "name": "python3",
      "display_name": "Python 3"
    },
    "language_info": {
      "codemirror_mode": {
        "name": "ipython",
        "version": 3
      },
      "file_extension": ".py",
      "mimetype": "text/x-python",
      "name": "python",
      "nbconvert_exporter": "python",
      "pygments_lexer": "ipython3",
      "version": "3.7.3"
    }
  },
  "cells": [
    {
      "cell_type": "markdown",
      "metadata": {
        "id": "mII0I9Z4uO59",
        "colab_type": "text"
      },
      "source": [
        "# Задание 3.2 - сверточные нейронные сети (CNNs) в PyTorch\n",
        "\n",
        "Это упражнение мы буде выполнять в Google Colab - https://colab.research.google.com/  \n",
        "Google Colab позволяет запускать код в notebook в облаке Google, где можно воспользоваться бесплатным GPU!  \n",
        "\n",
        "Авторы курса благодарят компанию Google и надеятся, что праздник не закончится.\n",
        "\n",
        "Туториал по настройке Google Colab:  \n",
        "https://medium.com/deep-learning-turkey/google-colab-free-gpu-tutorial-e113627b9f5d  \n",
        "(Keras инсталлировать не нужно, наш notebook сам установит PyTorch)\n"
      ]
    },
    {
      "cell_type": "code",
      "metadata": {
        "colab_type": "code",
        "id": "FcXBeP1O7cnY",
        "outputId": "c4df38e1-b85e-4f24-89b2-b70d9a5c7085",
        "colab": {
          "base_uri": "https://localhost:8080/",
          "height": 510
        }
      },
      "source": [
        "# Intstall PyTorch and download data\n",
        "!pip3 install torch torchvision\n",
        "\n",
        "!wget -c http://ufldl.stanford.edu/housenumbers/train_32x32.mat http://ufldl.stanford.edu/housenumbers/test_32x32.mat"
      ],
      "execution_count": 1,
      "outputs": [
        {
          "output_type": "stream",
          "text": [
            "Requirement already satisfied: torch in /usr/local/lib/python3.6/dist-packages (1.4.0)\n",
            "Requirement already satisfied: torchvision in /usr/local/lib/python3.6/dist-packages (0.5.0)\n",
            "Requirement already satisfied: numpy in /usr/local/lib/python3.6/dist-packages (from torchvision) (1.18.2)\n",
            "Requirement already satisfied: six in /usr/local/lib/python3.6/dist-packages (from torchvision) (1.12.0)\n",
            "Requirement already satisfied: pillow>=4.1.1 in /usr/local/lib/python3.6/dist-packages (from torchvision) (7.0.0)\n",
            "--2020-04-16 16:01:41--  http://ufldl.stanford.edu/housenumbers/train_32x32.mat\n",
            "Resolving ufldl.stanford.edu (ufldl.stanford.edu)... 171.64.68.10\n",
            "Connecting to ufldl.stanford.edu (ufldl.stanford.edu)|171.64.68.10|:80... connected.\n",
            "HTTP request sent, awaiting response... 200 OK\n",
            "Length: 182040794 (174M) [text/plain]\n",
            "Saving to: ‘train_32x32.mat’\n",
            "\n",
            "train_32x32.mat     100%[===================>] 173.61M  19.6MB/s    in 12s     \n",
            "\n",
            "2020-04-16 16:01:53 (15.1 MB/s) - ‘train_32x32.mat’ saved [182040794/182040794]\n",
            "\n",
            "--2020-04-16 16:01:53--  http://ufldl.stanford.edu/housenumbers/test_32x32.mat\n",
            "Reusing existing connection to ufldl.stanford.edu:80.\n",
            "HTTP request sent, awaiting response... 200 OK\n",
            "Length: 64275384 (61M) [text/plain]\n",
            "Saving to: ‘test_32x32.mat’\n",
            "\n",
            "test_32x32.mat      100%[===================>]  61.30M  20.6MB/s    in 3.0s    \n",
            "\n",
            "2020-04-16 16:01:56 (20.6 MB/s) - ‘test_32x32.mat’ saved [64275384/64275384]\n",
            "\n",
            "FINISHED --2020-04-16 16:01:56--\n",
            "Total wall clock time: 15s\n",
            "Downloaded: 2 files, 235M in 14s (16.2 MB/s)\n"
          ],
          "name": "stdout"
        }
      ]
    },
    {
      "cell_type": "code",
      "metadata": {
        "colab_type": "code",
        "id": "-afwWw-Q85vD",
        "colab": {}
      },
      "source": [
        "from collections import namedtuple\n",
        "\n",
        "import matplotlib.pyplot as plt\n",
        "import numpy as np\n",
        "import PIL\n",
        "import torch\n",
        "import torch.nn as nn\n",
        "import torch.optim as optim\n",
        "import torchvision.datasets as dset\n",
        "from torch.utils.data.sampler import SubsetRandomSampler\n",
        "\n",
        "from torchvision import transforms"
      ],
      "execution_count": 0,
      "outputs": []
    },
    {
      "cell_type": "code",
      "metadata": {
        "colab_type": "code",
        "id": "NNU-OD9O9ltP",
        "colab": {}
      },
      "source": [
        "device = torch.device(\"cuda:0\") # Let's make sure GPU is available!"
      ],
      "execution_count": 0,
      "outputs": []
    },
    {
      "cell_type": "markdown",
      "metadata": {
        "id": "idkEtdPtuO6H",
        "colab_type": "text"
      },
      "source": [
        "# Загружаем данные"
      ]
    },
    {
      "cell_type": "code",
      "metadata": {
        "colab_type": "code",
        "id": "YAvkoRx-9FsP",
        "colab": {}
      },
      "source": [
        "# First, lets load the dataset\n",
        "data_train = dset.SVHN('./', \n",
        "                       transform=transforms.Compose([\n",
        "                           transforms.ToTensor(),\n",
        "                           transforms.Normalize(mean=[0.43,0.44,0.47],\n",
        "                                               std=[0.20,0.20,0.20])                           \n",
        "                       ])\n",
        "                      )\n",
        "data_test = dset.SVHN('./', split='test', transform=transforms.Compose([\n",
        "                           transforms.ToTensor(),\n",
        "                           transforms.Normalize(mean=[0.43,0.44,0.47],\n",
        "                                               std=[0.20,0.20,0.20])                           \n",
        "                       ]))"
      ],
      "execution_count": 0,
      "outputs": []
    },
    {
      "cell_type": "markdown",
      "metadata": {
        "id": "ChO8-mjFuO6K",
        "colab_type": "text"
      },
      "source": [
        "Разделяем данные на training и validation.\n",
        "\n",
        "На всякий случай для подробностей - https://pytorch.org/tutorials/beginner/data_loading_tutorial.html"
      ]
    },
    {
      "cell_type": "code",
      "metadata": {
        "colab_type": "code",
        "id": "YRnr8CPg7Hli",
        "colab": {}
      },
      "source": [
        "batch_size = 64\n",
        "\n",
        "data_size = data_train.data.shape[0]\n",
        "validation_split = .2\n",
        "split = int(np.floor(validation_split * data_size))\n",
        "indices = list(range(data_size))\n",
        "np.random.shuffle(indices)\n",
        "\n",
        "train_indices, val_indices = indices[split:], indices[:split]\n",
        "\n",
        "train_sampler = SubsetRandomSampler(train_indices)\n",
        "val_sampler = SubsetRandomSampler(val_indices)\n",
        "\n",
        "train_loader = torch.utils.data.DataLoader(data_train, batch_size=batch_size, \n",
        "                                           sampler=train_sampler)\n",
        "val_loader = torch.utils.data.DataLoader(data_train, batch_size=batch_size,\n",
        "                                         sampler=val_sampler)"
      ],
      "execution_count": 0,
      "outputs": []
    },
    {
      "cell_type": "code",
      "metadata": {
        "colab_type": "code",
        "id": "LyYvt-T67PBG",
        "colab": {}
      },
      "source": [
        "# We'll use a special helper module to shape it into a flat tensor\n",
        "class Flattener(nn.Module):\n",
        "    def forward(self, x):\n",
        "        batch_size, *_ = x.shape\n",
        "        return x.view(batch_size, -1)"
      ],
      "execution_count": 0,
      "outputs": []
    },
    {
      "cell_type": "markdown",
      "metadata": {
        "id": "-dJPcNIIuO6Q",
        "colab_type": "text"
      },
      "source": [
        "Создадим простейшую сеть с новыми слоями:  \n",
        "Convolutional - `nn.Conv2d`  \n",
        "MaxPool - `nn.MaxPool2d`"
      ]
    },
    {
      "cell_type": "code",
      "metadata": {
        "colab_type": "code",
        "id": "w9SFVGZP7SQd",
        "colab": {}
      },
      "source": [
        "nn_model = nn.Sequential(\n",
        "            nn.Conv2d(3, 64, 3, padding=1),\n",
        "            nn.ReLU(inplace=True),\n",
        "            nn.MaxPool2d(4),\n",
        "            nn.Conv2d(64, 64, 3, padding=1),\n",
        "            nn.ReLU(inplace=True),\n",
        "            nn.MaxPool2d(4),    \n",
        "            Flattener(),\n",
        "            nn.Linear(64*2*2, 10),\n",
        "          )\n",
        "\n",
        "nn_model.type(torch.cuda.FloatTensor)\n",
        "nn_model.to(device)\n",
        "\n",
        "loss = nn.CrossEntropyLoss().type(torch.cuda.FloatTensor)\n",
        "optimizer = optim.SGD(nn_model.parameters(), lr=1e-1, weight_decay=1e-4)"
      ],
      "execution_count": 0,
      "outputs": []
    },
    {
      "cell_type": "markdown",
      "metadata": {
        "id": "JORgcSMMuO6T",
        "colab_type": "text"
      },
      "source": [
        "Восстановите функцию `compute_accuracy` из прошлого задания.  \n",
        "Единственное отличие в новом - она должна передать данные на GPU прежде чем прогонять через модель. Сделайте это так же, как это делает функция `train_model`"
      ]
    },
    {
      "cell_type": "code",
      "metadata": {
        "colab_type": "code",
        "id": "2ek3KVQK7hJ6",
        "outputId": "2417f0be-c681-4154-d89c-c76fadf352e2",
        "colab": {
          "base_uri": "https://localhost:8080/",
          "height": 102
        }
      },
      "source": [
        "def train_model(model, train_loader, val_loader, loss, optimizer, num_epochs, scheduler=None):    \n",
        "    loss_history = []\n",
        "    train_history = []\n",
        "    val_history = []\n",
        "    for epoch in range(num_epochs):\n",
        "        model.train() # Enter train mode\n",
        "        \n",
        "        loss_accum = 0\n",
        "        correct_samples = 0\n",
        "        total_samples = 0\n",
        "        for i_step, (x, y) in enumerate(train_loader):\n",
        "          \n",
        "            x_gpu = x.to(device)\n",
        "            y_gpu = y.to(device)\n",
        "            prediction = model(x_gpu)    \n",
        "            loss_value = loss(prediction, y_gpu)\n",
        "            optimizer.zero_grad()\n",
        "            loss_value.backward()\n",
        "            optimizer.step()\n",
        "            \n",
        "            _, indices = torch.max(prediction, 1)\n",
        "            correct_samples += torch.sum(indices == y_gpu)\n",
        "            total_samples += y.shape[0]\n",
        "            \n",
        "            loss_accum += loss_value\n",
        "\n",
        "        ave_loss = loss_accum / i_step\n",
        "        train_accuracy = float(correct_samples) / total_samples\n",
        "        val_accuracy = compute_accuracy(model, val_loader)\n",
        "        \n",
        "        loss_history.append(float(ave_loss))\n",
        "        train_history.append(train_accuracy)\n",
        "        val_history.append(val_accuracy)\n",
        "\n",
        "        if scheduler is not None:\n",
        "          scheduler.step()\n",
        "        \n",
        "        print(\"Average loss: %f, Train accuracy: %f, Val accuracy: %f\" % (ave_loss, train_accuracy, val_accuracy))\n",
        "        \n",
        "    return loss_history, train_history, val_history\n",
        "        \n",
        "def compute_accuracy(model, loader):\n",
        "    \"\"\"\n",
        "    Computes accuracy on the dataset wrapped in a loader\n",
        "    \n",
        "    Returns: accuracy as a float value between 0 and 1\n",
        "    \"\"\"\n",
        "    model.eval() # Evaluation mode\n",
        "    # TODO: Copy implementation from previous assignment\n",
        "    # Don't forget to move the data to device before running it through the model!\n",
        "    acc = np.array([])\n",
        "   \n",
        "    for i_step, (x, y) in enumerate(loader):\n",
        "        x_gpu = x.to(device)\n",
        "        y_gpu = y.to(device)\n",
        "        acc = np.append(acc, float(sum(model(x_gpu).argmax(dim=1) == y_gpu)) / list(y_gpu.size())[0])\n",
        "        \n",
        "    return acc.mean()\n",
        "\n",
        "loss_history, train_history, val_history = train_model(nn_model, train_loader, val_loader, loss, optimizer, 5)"
      ],
      "execution_count": 8,
      "outputs": [
        {
          "output_type": "stream",
          "text": [
            "Average loss: 1.414541, Train accuracy: 0.528274, Val accuracy: 0.723695\n",
            "Average loss: 0.691219, Train accuracy: 0.790329, Val accuracy: 0.813727\n",
            "Average loss: 0.590934, Train accuracy: 0.823789, Val accuracy: 0.783267\n",
            "Average loss: 0.546154, Train accuracy: 0.836297, Val accuracy: 0.821073\n",
            "Average loss: 0.512961, Train accuracy: 0.847302, Val accuracy: 0.814023\n"
          ],
          "name": "stdout"
        }
      ]
    },
    {
      "cell_type": "markdown",
      "metadata": {
        "colab_type": "text",
        "id": "6a-3a1ZFGEw_"
      },
      "source": [
        "# Аугментация данных (Data augmentation)\n",
        "\n",
        "В работе с изображениями одним из особенно важных методов является аугментация данных - то есть, генерация дополнительных данных для тренировки на основе изначальных.   \n",
        "Таким образом, мы получаем возможность \"увеличить\" набор данных для тренировки, что ведет к лучшей работе сети.\n",
        "Важно, чтобы аугментированные данные были похожи на те, которые могут встретиться в реальной жизни, иначе польза от аугментаций уменьшается и может ухудшить работу сети.\n",
        "\n",
        "С PyTorch идут несколько таких алгоритмов, называемых `transforms`. Более подробно про них можно прочитать тут -\n",
        "https://pytorch.org/tutorials/beginner/data_loading_tutorial.html#transforms\n",
        "\n",
        "Ниже мы используем следующие алгоритмы генерации:\n",
        "- ColorJitter - случайное изменение цвета\n",
        "- RandomHorizontalFlip - горизонтальное отражение с вероятностью 50%\n",
        "- RandomVerticalFlip - вертикальное отражение с вероятностью 50%\n",
        "- RandomRotation - случайный поворот"
      ]
    },
    {
      "cell_type": "code",
      "metadata": {
        "colab_type": "code",
        "id": "jCWMUWmr7t5g",
        "colab": {}
      },
      "source": [
        "tfs = transforms.Compose([\n",
        "    transforms.ColorJitter(hue=.50, saturation=.50),\n",
        "    transforms.RandomHorizontalFlip(),\n",
        "    transforms.RandomVerticalFlip(),\n",
        "    transforms.RandomRotation(50, resample=PIL.Image.BILINEAR),\n",
        "    transforms.ToTensor(),\n",
        "    transforms.Normalize(mean=[0.43,0.44,0.47],\n",
        "                       std=[0.20,0.20,0.20])                           \n",
        "])\n",
        "\n",
        "# Create augmented train dataset\n",
        "data_aug_train = dset.SVHN('./', \n",
        "                       transform=tfs\n",
        "                      )\n",
        "\n",
        "train_aug_loader = torch.utils.data.DataLoader(data_aug_train, batch_size=batch_size, \n",
        "                                           sampler=train_sampler)"
      ],
      "execution_count": 0,
      "outputs": []
    },
    {
      "cell_type": "markdown",
      "metadata": {
        "id": "4ngi80aDuO6b",
        "colab_type": "text"
      },
      "source": [
        "Визуализируем результаты агментации (вообще, смотреть на сгенерированные данные всегда очень полезно)."
      ]
    },
    {
      "cell_type": "code",
      "metadata": {
        "colab_type": "code",
        "id": "YlJJEro1KZ45",
        "outputId": "cc6863c6-38b3-40f7-909a-580c54a46f9e",
        "colab": {
          "base_uri": "https://localhost:8080/",
          "height": 111
        }
      },
      "source": [
        "# TODO: Visualize some augmented images!\n",
        "# hint: you can create new datasets and loaders to accomplish this\n",
        "\n",
        "# Based on the visualizations, should we keep all the augmentations?\n",
        "\n",
        "tfs = transforms.Compose([\n",
        "    transforms.ColorJitter(hue=.20, saturation=.20),\n",
        "    transforms.RandomHorizontalFlip(),\n",
        "    transforms.RandomVerticalFlip(),\n",
        "    transforms.RandomRotation(10, resample=PIL.Image.BILINEAR),\n",
        "])\n",
        "\n",
        "data_aug_vis = dset.SVHN('./', \n",
        "                       transform=tfs\n",
        "                      )\n",
        "\n",
        "plt.figure(figsize=(30, 3))\n",
        "\n",
        "for i, (x, y) in enumerate(data_aug_vis):\n",
        "    if i == 10:\n",
        "        break\n",
        "    plt.subplot(1, 10, i+1)\n",
        "    plt.grid(False)\n",
        "    plt.imshow(x)\n",
        "    plt.axis('off')"
      ],
      "execution_count": 10,
      "outputs": [
        {
          "output_type": "display_data",
          "data": {
            "image/png": "[encoded data removed]",
            "text/plain": [
              "<Figure size 2160x216 with 10 Axes>"
            ]
          },
          "metadata": {
            "tags": [],
            "needs_background": "light"
          }
        }
      ]
    },
    {
      "cell_type": "markdown",
      "metadata": {
        "colab_type": "text",
        "id": "o2LrmsYHoguB"
      },
      "source": [
        "Все ли агментации одинаково полезны на этом наборе данных? Могут ли быть среди них те, которые собьют модель с толку?\n",
        "\n",
        "Выберите из них только корректные"
      ]
    },
    {
      "cell_type": "code",
      "metadata": {
        "colab_type": "code",
        "id": "evro9ksXGs9u",
        "colab": {}
      },
      "source": [
        "# TODO: \n",
        "tfs = transforms.Compose([\n",
        "    # TODO: Add good augmentations\n",
        "    transforms.ColorJitter(hue=.20, saturation=.20),\n",
        "    transforms.RandomRotation(10, resample=PIL.Image.BILINEAR),\n",
        "    transforms.ToTensor(),\n",
        "    transforms.Normalize(mean=[0.43,0.44,0.47],\n",
        "                       std=[0.20,0.20,0.20])                           \n",
        "])\n",
        "\n",
        "# TODO create new instances of loaders with the augmentations you chose\n",
        "data_aug_train = dset.SVHN('./', \n",
        "                       transform=tfs\n",
        "                      )\n",
        "train_aug_loader = torch.utils.data.DataLoader(data_aug_train, batch_size=batch_size, \n",
        "                                           sampler=train_sampler)"
      ],
      "execution_count": 0,
      "outputs": []
    },
    {
      "cell_type": "code",
      "metadata": {
        "colab_type": "code",
        "id": "PeO6Zw0DHqPR",
        "outputId": "b28658c6-6ec8-4f3c-8aa2-852a9e7de4ba",
        "colab": {
          "base_uri": "https://localhost:8080/",
          "height": 102
        }
      },
      "source": [
        "# Finally, let's train with augmentations!\n",
        "\n",
        "# Note we shouldn't use augmentations on validation\n",
        "\n",
        "loss_history, train_history, val_history = train_model(nn_model, train_aug_loader, val_loader, loss, optimizer, 5)"
      ],
      "execution_count": 12,
      "outputs": [
        {
          "output_type": "stream",
          "text": [
            "Average loss: 0.604623, Train accuracy: 0.816708, Val accuracy: 0.833282\n",
            "Average loss: 0.555756, Train accuracy: 0.832167, Val accuracy: 0.847530\n",
            "Average loss: 0.533267, Train accuracy: 0.839436, Val accuracy: 0.852284\n",
            "Average loss: 0.519774, Train accuracy: 0.843446, Val accuracy: 0.858715\n",
            "Average loss: 0.506693, Train accuracy: 0.846893, Val accuracy: 0.865327\n"
          ],
          "name": "stdout"
        }
      ]
    },
    {
      "cell_type": "code",
      "metadata": {
        "id": "EZVfFjMzLg46",
        "colab_type": "code",
        "outputId": "a1002df6-9f0b-4940-f121-d6a1c0c4bfc8",
        "colab": {
          "base_uri": "https://localhost:8080/",
          "height": 265
        }
      },
      "source": [
        "plt.plot(train_history)\n",
        "plt.plot(val_history)\n",
        "plt.show()"
      ],
      "execution_count": 13,
      "outputs": [
        {
          "output_type": "display_data",
          "data": {
            "image/png": "[encoded data removed]",
            "text/plain": [
              "<Figure size 432x288 with 1 Axes>"
            ]
          },
          "metadata": {
            "tags": [],
            "needs_background": "light"
          }
        }
      ]
    },
    {
      "cell_type": "markdown",
      "metadata": {
        "colab_type": "text",
        "id": "r0bcioK6JBDK"
      },
      "source": [
        "# LeNet\n",
        "Попробуем имплементировать классическую архитектуру сверточной нейронной сети, предложенную Яном ЛеКуном в 1998 году. В свое время она достигла впечатляющих результатов на MNIST, посмотрим как она справится с SVHN?\n",
        "Она описана в статье [\"Gradient Based Learning Applied to Document Recognition\"](http://yann.lecun.com/exdb/publis/pdf/lecun-01a.pdf), попробуйте прочитать ключевые части и имплементировать предложенную архитетуру на PyTorch.\n",
        "\n",
        "Реализовывать слои и функцию ошибки LeNet, которых нет в PyTorch, **не нужно** - просто возьмите их размеры и переведите в уже известные нам Convolutional, Pooling и Fully Connected layers.\n",
        "\n",
        "Если в статье не очень понятно, можно просто погуглить LeNet и разобраться в деталях :)"
      ]
    },
    {
      "cell_type": "code",
      "metadata": {
        "colab_type": "code",
        "id": "ieEzZUglJAUB",
        "colab": {}
      },
      "source": [
        "# TODO: Implement LeNet-like architecture for SVHN task\n",
        "lenet_model = nn.Sequential(\n",
        "                nn.Conv2d(3, 6, 5),\n",
        "                nn.ReLU(inplace=True),\n",
        "                nn.MaxPool2d(2),\n",
        "                nn.Conv2d(6, 16, 5),\n",
        "                nn.ReLU(inplace=True),\n",
        "                nn.MaxPool2d(2),\n",
        "                Flattener(),\n",
        "                nn.Linear(16*5*5, 120),\n",
        "                nn.ReLU(inplace=True),\n",
        "                nn.Linear(120, 84),\n",
        "                nn.ReLU(inplace=True),\n",
        "                nn.Linear(84, 10)\n",
        "          )\n",
        "\n",
        "lenet_model.type(torch.cuda.FloatTensor)\n",
        "lenet_model.to(device)\n",
        "\n",
        "loss = nn.CrossEntropyLoss().type(torch.cuda.FloatTensor)\n",
        "optimizer = optim.SGD(lenet_model.parameters(), lr=1e-1, weight_decay=1e-4)"
      ],
      "execution_count": 0,
      "outputs": []
    },
    {
      "cell_type": "code",
      "metadata": {
        "colab_type": "code",
        "id": "WMmaPfdeKk9H",
        "outputId": "a58bbc01-da44-4ccf-f71a-e9bff3fe5032",
        "colab": {
          "base_uri": "https://localhost:8080/",
          "height": 187
        }
      },
      "source": [
        "# Let's train it!\n",
        "loss_history, train_history, val_history = train_model(lenet_model, train_aug_loader, val_loader, loss, optimizer, 10)"
      ],
      "execution_count": 15,
      "outputs": [
        {
          "output_type": "stream",
          "text": [
            "Average loss: 1.331636, Train accuracy: 0.550473, Val accuracy: 0.744619\n",
            "Average loss: 0.554782, Train accuracy: 0.832850, Val accuracy: 0.869427\n",
            "Average loss: 0.456158, Train accuracy: 0.863239, Val accuracy: 0.879412\n",
            "Average loss: 0.408466, Train accuracy: 0.877828, Val accuracy: 0.883921\n",
            "Average loss: 0.379003, Train accuracy: 0.887315, Val accuracy: 0.894121\n",
            "Average loss: 0.351866, Train accuracy: 0.894960, Val accuracy: 0.894417\n",
            "Average loss: 0.334741, Train accuracy: 0.900351, Val accuracy: 0.895156\n",
            "Average loss: 0.318398, Train accuracy: 0.904856, Val accuracy: 0.893092\n",
            "Average loss: 0.304182, Train accuracy: 0.908474, Val accuracy: 0.897141\n",
            "Average loss: 0.291173, Train accuracy: 0.912432, Val accuracy: 0.897880\n"
          ],
          "name": "stdout"
        }
      ]
    },
    {
      "cell_type": "markdown",
      "metadata": {
        "colab_type": "text",
        "id": "u_O9qiYySvuj"
      },
      "source": [
        "# Подбор гиперпараметров"
      ]
    },
    {
      "cell_type": "code",
      "metadata": {
        "colab_type": "code",
        "id": "i6mhfdQ9K-N3",
        "outputId": "22d26cf4-b891-4edc-b5ff-87b3f7147681",
        "colab": {
          "base_uri": "https://localhost:8080/",
          "height": 1000
        }
      },
      "source": [
        "# The key hyperparameters we're going to tune are learning speed, annealing rate and regularization\n",
        "# We also encourage you to try different optimizers as well\n",
        "\n",
        "Hyperparams = namedtuple(\"Hyperparams\", ['learning_rate', 'anneal_epochs', 'reg'])\n",
        "RunResult = namedtuple(\"RunResult\", ['model', 'train_history', 'val_history', 'final_val_accuracy'])\n",
        "\n",
        "learning_rates = [1e0, 1e-1, 1e-2, 1e-3, 1e-4]\n",
        "anneal_coeff = 0.2\n",
        "anneal_epochs = [1, 5, 10, 15, 20, 50]\n",
        "reg = [1e-3, 1e-4, 1e-5, 1e-7]\n",
        "\n",
        "batch_size = 64\n",
        "epoch_num = 10\n",
        "\n",
        "# Record all the runs here\n",
        "# Key should be Hyperparams and values should be RunResult\n",
        "run_record = {}\n",
        "\n",
        "# Use grid search or random search and record all runs in run_record dictionnary \n",
        "# Important: perform search in logarithmic space!\n",
        "\n",
        "# TODO: Your code here!\n",
        "def weight_reset(m):\n",
        "    if isinstance(m, nn.Conv2d) or isinstance(m, nn.Linear) or isinstance(m, nn.BatchNorm2d):\n",
        "        m.reset_parameters()\n",
        "\n",
        "for i in range(10):\n",
        "  lenet_model.apply(weight_reset)\n",
        "  lr = learning_rates[np.random.randint(len(learning_rates))]\n",
        "  ae = anneal_epochs[np.random.randint(len(anneal_epochs))]\n",
        "  rg = reg[np.random.randint(len(reg))]\n",
        "\n",
        "  loss = nn.CrossEntropyLoss().type(torch.cuda.FloatTensor)\n",
        "  optimizer = optim.SGD(lenet_model.parameters(), lr=lr, weight_decay=rg)\n",
        "  scheduler = optim.lr_scheduler.StepLR(optimizer, step_size=ae,\n",
        "                                        gamma=anneal_coeff)\n",
        "  \n",
        "  loss_history, train_history, val_history = train_model(lenet_model, train_aug_loader, val_loader, loss, optimizer, 10,\n",
        "                                                         scheduler=scheduler)\n",
        "\n",
        "  run_record[Hyperparams(lr, ae, rg)] = RunResult(lenet_model, train_history, val_history, val_history[-1])\n",
        "  \n"
      ],
      "execution_count": 16,
      "outputs": [
        {
          "output_type": "stream",
          "text": [
            "Average loss: 1.451430, Train accuracy: 0.504385, Val accuracy: 0.796180\n",
            "Average loss: 0.585257, Train accuracy: 0.821964, Val accuracy: 0.832104\n",
            "Average loss: 0.481972, Train accuracy: 0.853018, Val accuracy: 0.865202\n",
            "Average loss: 0.427865, Train accuracy: 0.871003, Val accuracy: 0.883955\n",
            "Average loss: 0.391728, Train accuracy: 0.881429, Val accuracy: 0.873601\n",
            "Average loss: 0.368735, Train accuracy: 0.886394, Val accuracy: 0.872963\n",
            "Average loss: 0.346627, Train accuracy: 0.894004, Val accuracy: 0.890994\n",
            "Average loss: 0.329236, Train accuracy: 0.898867, Val accuracy: 0.896265\n",
            "Average loss: 0.318112, Train accuracy: 0.903082, Val accuracy: 0.891062\n",
            "Average loss: 0.304551, Train accuracy: 0.906784, Val accuracy: 0.894821\n",
            "Average loss: 2.241764, Train accuracy: 0.189452, Val accuracy: 0.187416\n",
            "Average loss: 2.242409, Train accuracy: 0.189042, Val accuracy: 0.187416\n",
            "Average loss: 2.242674, Train accuracy: 0.189230, Val accuracy: 0.187427\n",
            "Average loss: 2.243085, Train accuracy: 0.188940, Val accuracy: 0.187410\n",
            "Average loss: 2.242812, Train accuracy: 0.189264, Val accuracy: 0.187416\n",
            "Average loss: 2.242235, Train accuracy: 0.189179, Val accuracy: 0.187404\n",
            "Average loss: 2.242658, Train accuracy: 0.188360, Val accuracy: 0.187421\n",
            "Average loss: 2.242861, Train accuracy: 0.189110, Val accuracy: 0.187462\n",
            "Average loss: 2.242896, Train accuracy: 0.188940, Val accuracy: 0.149200\n",
            "Average loss: 2.242816, Train accuracy: 0.188837, Val accuracy: 0.187433\n",
            "Average loss: 2.264647, Train accuracy: 0.172986, Val accuracy: 0.187433\n",
            "Average loss: 2.231689, Train accuracy: 0.189656, Val accuracy: 0.187404\n",
            "Average loss: 2.084235, Train accuracy: 0.261492, Val accuracy: 0.421372\n",
            "Average loss: 1.313320, Train accuracy: 0.583882, Val accuracy: 0.723303\n",
            "Average loss: 0.872619, Train accuracy: 0.739992, Val accuracy: 0.789482\n",
            "Average loss: 0.726834, Train accuracy: 0.787189, Val accuracy: 0.798068\n",
            "Average loss: 0.657192, Train accuracy: 0.808620, Val accuracy: 0.828061\n",
            "Average loss: 0.604293, Train accuracy: 0.824387, Val accuracy: 0.839815\n",
            "Average loss: 0.568613, Train accuracy: 0.833413, Val accuracy: 0.854973\n",
            "Average loss: 0.539580, Train accuracy: 0.841774, Val accuracy: 0.855048\n",
            "Average loss: 1.420349, Train accuracy: 0.521209, Val accuracy: 0.651222\n",
            "Average loss: 0.578876, Train accuracy: 0.826042, Val accuracy: 0.852989\n",
            "Average loss: 0.469090, Train accuracy: 0.859895, Val accuracy: 0.877200\n",
            "Average loss: 0.424039, Train accuracy: 0.873835, Val accuracy: 0.887799\n",
            "Average loss: 0.390657, Train accuracy: 0.882777, Val accuracy: 0.868273\n",
            "Average loss: 0.365274, Train accuracy: 0.890711, Val accuracy: 0.895503\n",
            "Average loss: 0.351382, Train accuracy: 0.896376, Val accuracy: 0.886104\n",
            "Average loss: 0.339436, Train accuracy: 0.898662, Val accuracy: 0.881857\n",
            "Average loss: 0.327498, Train accuracy: 0.902297, Val accuracy: 0.893871\n",
            "Average loss: 0.318804, Train accuracy: 0.904668, Val accuracy: 0.900336\n",
            "Average loss: 2.303417, Train accuracy: 0.098181, Val accuracy: 0.187296\n",
            "Average loss: 2.286999, Train accuracy: 0.189656, Val accuracy: 0.187444\n",
            "Average loss: 2.273518, Train accuracy: 0.189656, Val accuracy: 0.187392\n",
            "Average loss: 2.261894, Train accuracy: 0.189656, Val accuracy: 0.187404\n",
            "Average loss: 2.251581, Train accuracy: 0.189656, Val accuracy: 0.187439\n",
            "Average loss: 2.243841, Train accuracy: 0.189656, Val accuracy: 0.187410\n",
            "Average loss: 2.239987, Train accuracy: 0.189656, Val accuracy: 0.187444\n",
            "Average loss: 2.238341, Train accuracy: 0.189656, Val accuracy: 0.187427\n",
            "Average loss: 2.237316, Train accuracy: 0.189656, Val accuracy: 0.187439\n",
            "Average loss: 2.236445, Train accuracy: 0.189656, Val accuracy: 0.187433\n",
            "Average loss: 2.254180, Train accuracy: 0.178361, Val accuracy: 0.187387\n",
            "Average loss: 2.231400, Train accuracy: 0.189656, Val accuracy: 0.187421\n",
            "Average loss: 2.163142, Train accuracy: 0.215609, Val accuracy: 0.319137\n",
            "Average loss: 1.521673, Train accuracy: 0.504471, Val accuracy: 0.691416\n",
            "Average loss: 0.902882, Train accuracy: 0.729772, Val accuracy: 0.785587\n",
            "Average loss: 0.715061, Train accuracy: 0.792752, Val accuracy: 0.798705\n",
            "Average loss: 0.636741, Train accuracy: 0.814712, Val accuracy: 0.839797\n",
            "Average loss: 0.593667, Train accuracy: 0.828516, Val accuracy: 0.838598\n",
            "Average loss: 0.554726, Train accuracy: 0.839812, Val accuracy: 0.853666\n",
            "Average loss: 0.525707, Train accuracy: 0.846227, Val accuracy: 0.866294\n",
            "Average loss: 1.423706, Train accuracy: 0.517797, Val accuracy: 0.817156\n",
            "Average loss: 0.590566, Train accuracy: 0.824199, Val accuracy: 0.859875\n",
            "Average loss: 0.488092, Train accuracy: 0.855117, Val accuracy: 0.875028\n",
            "Average loss: 0.434786, Train accuracy: 0.870764, Val accuracy: 0.877365\n",
            "Average loss: 0.400310, Train accuracy: 0.880763, Val accuracy: 0.876961\n",
            "Average loss: 0.370136, Train accuracy: 0.889209, Val accuracy: 0.889214\n",
            "Average loss: 0.352343, Train accuracy: 0.894482, Val accuracy: 0.893655\n",
            "Average loss: 0.332187, Train accuracy: 0.899259, Val accuracy: 0.899085\n",
            "Average loss: 0.321322, Train accuracy: 0.904737, Val accuracy: 0.894559\n",
            "Average loss: 0.308563, Train accuracy: 0.906460, Val accuracy: 0.885058\n",
            "Average loss: 2.247677, Train accuracy: 0.188530, Val accuracy: 0.187456\n",
            "Average loss: 2.231122, Train accuracy: 0.189656, Val accuracy: 0.187416\n",
            "Average loss: 2.228625, Train accuracy: 0.189656, Val accuracy: 0.187410\n",
            "Average loss: 2.228117, Train accuracy: 0.189656, Val accuracy: 0.187439\n",
            "Average loss: 2.227942, Train accuracy: 0.189656, Val accuracy: 0.187439\n",
            "Average loss: 2.227856, Train accuracy: 0.189656, Val accuracy: 0.187427\n",
            "Average loss: 2.227749, Train accuracy: 0.189656, Val accuracy: 0.187444\n",
            "Average loss: 2.227895, Train accuracy: 0.189656, Val accuracy: 0.187439\n",
            "Average loss: 2.227895, Train accuracy: 0.189656, Val accuracy: 0.187416\n",
            "Average loss: 2.227775, Train accuracy: 0.189656, Val accuracy: 0.187439\n",
            "Average loss: 2.236602, Train accuracy: 0.190902, Val accuracy: 0.187614\n",
            "Average loss: 2.242659, Train accuracy: 0.189486, Val accuracy: 0.187433\n",
            "Average loss: 2.242799, Train accuracy: 0.188633, Val accuracy: 0.187450\n",
            "Average loss: 2.242623, Train accuracy: 0.189315, Val accuracy: 0.187404\n",
            "Average loss: 2.243111, Train accuracy: 0.188223, Val accuracy: 0.187416\n",
            "Average loss: 2.239841, Train accuracy: 0.189656, Val accuracy: 0.187439\n",
            "Average loss: 2.239849, Train accuracy: 0.189656, Val accuracy: 0.187439\n",
            "Average loss: 2.239845, Train accuracy: 0.189656, Val accuracy: 0.187439\n",
            "Average loss: 2.239753, Train accuracy: 0.189656, Val accuracy: 0.187410\n",
            "Average loss: 2.239842, Train accuracy: 0.189656, Val accuracy: 0.187439\n",
            "Average loss: 2.293320, Train accuracy: 0.185254, Val accuracy: 0.195280\n",
            "Average loss: 2.291255, Train accuracy: 0.195304, Val accuracy: 0.202171\n",
            "Average loss: 2.289226, Train accuracy: 0.195458, Val accuracy: 0.197247\n",
            "Average loss: 2.287252, Train accuracy: 0.193154, Val accuracy: 0.192494\n",
            "Average loss: 2.285331, Train accuracy: 0.190868, Val accuracy: 0.189417\n",
            "Average loss: 2.283449, Train accuracy: 0.190202, Val accuracy: 0.188394\n",
            "Average loss: 2.281583, Train accuracy: 0.189793, Val accuracy: 0.187939\n",
            "Average loss: 2.279775, Train accuracy: 0.189690, Val accuracy: 0.187552\n",
            "Average loss: 2.278036, Train accuracy: 0.189639, Val accuracy: 0.187519\n",
            "Average loss: 2.276269, Train accuracy: 0.189656, Val accuracy: 0.187410\n"
          ],
          "name": "stdout"
        }
      ]
    },
    {
      "cell_type": "code",
      "metadata": {
        "colab_type": "code",
        "id": "Y6xExdw8JB1l",
        "colab": {
          "base_uri": "https://localhost:8080/",
          "height": 34
        },
        "outputId": "872ebf5b-0a97-4679-dc36-db779818c0bc"
      },
      "source": [
        "best_val_accuracy = None\n",
        "best_hyperparams = None\n",
        "best_run = None\n",
        "\n",
        "for hyperparams, run_result in run_record.items():\n",
        "    if best_val_accuracy is None or best_val_accuracy < run_result.final_val_accuracy:\n",
        "        best_val_accuracy = run_result.final_val_accuracy\n",
        "        best_hyperparams = hyperparams\n",
        "        best_run = run_result\n",
        "        \n",
        "print(\"Best validation accuracy: %4.2f, best hyperparams: %s\" % (best_val_accuracy, best_hyperparams))\n",
        "        "
      ],
      "execution_count": 17,
      "outputs": [
        {
          "output_type": "stream",
          "text": [
            "Best validation accuracy: 0.90, best hyperparams: Hyperparams(learning_rate=0.1, anneal_epochs=20, reg=0.001)\n"
          ],
          "name": "stdout"
        }
      ]
    },
    {
      "cell_type": "markdown",
      "metadata": {
        "colab_type": "text",
        "id": "LOmsR0uVgtgf"
      },
      "source": [
        "# Свободное упражнение - догоним и перегоним LeNet!\n",
        "\n",
        "Попробуйте найти архитектуру и настройки тренировки, чтобы выступить лучше наших бейзлайнов.\n",
        "\n",
        "Что можно и нужно попробовать:\n",
        "- BatchNormalization (для convolution layers он в PyTorch называется [batchnorm2d](https://pytorch.org/docs/stable/nn.html#batchnorm2d))\n",
        "- Изменить количество слоев и их толщину\n",
        "- Изменять количество эпох тренировки\n",
        "- Попробовать и другие агментации"
      ]
    },
    {
      "cell_type": "code",
      "metadata": {
        "colab_type": "code",
        "id": "tSVhD747icoc",
        "colab": {
          "base_uri": "https://localhost:8080/",
          "height": 867
        },
        "outputId": "f2106576-df8e-43f9-d06b-fad0c5cc285c"
      },
      "source": [
        "best_model = nn.Sequential(\n",
        "                nn.Conv2d(3, 6, 5),\n",
        "                nn.BatchNorm2d(6),\n",
        "                nn.ReLU(inplace=True),\n",
        "                nn.MaxPool2d(2),\n",
        "                nn.Conv2d(6, 16, 5),\n",
        "                nn.BatchNorm2d(16),\n",
        "                nn.ReLU(inplace=True),\n",
        "                nn.MaxPool2d(2),\n",
        "                Flattener(),\n",
        "                nn.Linear(16*5*5, 120),\n",
        "                nn.ReLU(inplace=True),\n",
        "                nn.Linear(120, 84),\n",
        "                nn.ReLU(inplace=True),\n",
        "                nn.Linear(84, 10)\n",
        "          )\n",
        "best_model.type(torch.cuda.FloatTensor)\n",
        "best_model.to(device)\n",
        "\n",
        "batch_size = 64\n",
        "epoch_num = 5\n",
        "run_record = {}\n",
        "for i in range(10):\n",
        "  best_model.apply(weight_reset)\n",
        "  lr = learning_rates[np.random.randint(len(learning_rates))]\n",
        "  ae = anneal_epochs[np.random.randint(len(anneal_epochs))]\n",
        "  rg = reg[np.random.randint(len(reg))]\n",
        "\n",
        "  loss = nn.CrossEntropyLoss().type(torch.cuda.FloatTensor)\n",
        "  optimizer = optim.SGD(best_model.parameters(), lr=lr, weight_decay=rg)\n",
        "  scheduler = optim.lr_scheduler.StepLR(optimizer, step_size=ae,\n",
        "                                        gamma=anneal_coeff)\n",
        "  \n",
        "  loss_history, train_history, val_history = train_model(best_model, train_aug_loader, val_loader, loss, optimizer, epoch_num,\n",
        "                                                         scheduler=scheduler)\n",
        "\n",
        "  run_record[Hyperparams(lr, ae, rg)] = RunResult(lenet_model, train_history, val_history, val_history[-1])"
      ],
      "execution_count": 18,
      "outputs": [
        {
          "output_type": "stream",
          "text": [
            "Average loss: 0.962512, Train accuracy: 0.689656, Val accuracy: 0.850283\n",
            "Average loss: 0.505403, Train accuracy: 0.844555, Val accuracy: 0.869706\n",
            "Average loss: 0.433182, Train accuracy: 0.868802, Val accuracy: 0.882169\n",
            "Average loss: 0.391199, Train accuracy: 0.881906, Val accuracy: 0.877513\n",
            "Average loss: 0.361824, Train accuracy: 0.890250, Val accuracy: 0.889425\n",
            "Average loss: 1.958041, Train accuracy: 0.318961, Val accuracy: 0.616412\n",
            "Average loss: 0.971633, Train accuracy: 0.706327, Val accuracy: 0.802929\n",
            "Average loss: 0.709562, Train accuracy: 0.791489, Val accuracy: 0.821665\n",
            "Average loss: 0.635221, Train accuracy: 0.812579, Val accuracy: 0.837614\n",
            "Average loss: 0.589482, Train accuracy: 0.825888, Val accuracy: 0.847406\n",
            "Average loss: 1.915228, Train accuracy: 0.341313, Val accuracy: 0.598559\n",
            "Average loss: 1.207379, Train accuracy: 0.618452, Val accuracy: 0.674631\n",
            "Average loss: 1.111324, Train accuracy: 0.656793, Val accuracy: 0.686043\n",
            "Average loss: 1.093856, Train accuracy: 0.663652, Val accuracy: 0.688135\n",
            "Average loss: 1.091139, Train accuracy: 0.662594, Val accuracy: 0.688340\n",
            "Average loss: 1.888852, Train accuracy: 0.350578, Val accuracy: 0.618192\n",
            "Average loss: 0.921887, Train accuracy: 0.721257, Val accuracy: 0.804919\n",
            "Average loss: 0.685788, Train accuracy: 0.799543, Val accuracy: 0.820215\n",
            "Average loss: 0.608769, Train accuracy: 0.821912, Val accuracy: 0.833440\n",
            "Average loss: 0.564127, Train accuracy: 0.833993, Val accuracy: 0.854359\n",
            "Average loss: 0.992307, Train accuracy: 0.675221, Val accuracy: 0.835584\n",
            "Average loss: 0.505843, Train accuracy: 0.844402, Val accuracy: 0.873794\n",
            "Average loss: 0.430251, Train accuracy: 0.869297, Val accuracy: 0.866902\n",
            "Average loss: 0.388664, Train accuracy: 0.882230, Val accuracy: 0.889220\n",
            "Average loss: 0.357918, Train accuracy: 0.890779, Val accuracy: 0.897612\n",
            "Average loss: 1.211203, Train accuracy: 0.601338, Val accuracy: 0.771691\n",
            "Average loss: 0.637736, Train accuracy: 0.812477, Val accuracy: 0.800899\n",
            "Average loss: 0.550689, Train accuracy: 0.839419, Val accuracy: 0.779116\n",
            "Average loss: 0.514976, Train accuracy: 0.847729, Val accuracy: 0.865236\n",
            "Average loss: 0.481493, Train accuracy: 0.858496, Val accuracy: 0.874897\n",
            "Average loss: 1.192081, Train accuracy: 0.606525, Val accuracy: 0.783222\n",
            "Average loss: 0.624400, Train accuracy: 0.815309, Val accuracy: 0.822478\n",
            "Average loss: 0.549501, Train accuracy: 0.838634, Val accuracy: 0.866573\n",
            "Average loss: 0.503162, Train accuracy: 0.852592, Val accuracy: 0.865742\n",
            "Average loss: 0.489266, Train accuracy: 0.856107, Val accuracy: 0.873049\n",
            "Average loss: 1.926086, Train accuracy: 0.336211, Val accuracy: 0.563373\n",
            "Average loss: 0.956706, Train accuracy: 0.710149, Val accuracy: 0.808036\n",
            "Average loss: 0.690365, Train accuracy: 0.796796, Val accuracy: 0.816064\n",
            "Average loss: 0.615704, Train accuracy: 0.818790, Val accuracy: 0.848219\n",
            "Average loss: 0.575345, Train accuracy: 0.832201, Val accuracy: 0.855445\n",
            "Average loss: 1.860238, Train accuracy: 0.356551, Val accuracy: 0.668336\n",
            "Average loss: 0.872267, Train accuracy: 0.742979, Val accuracy: 0.816468\n",
            "Average loss: 0.669145, Train accuracy: 0.803826, Val accuracy: 0.819158\n",
            "Average loss: 0.600568, Train accuracy: 0.824643, Val accuracy: 0.839462\n",
            "Average loss: 0.559611, Train accuracy: 0.836126, Val accuracy: 0.847178\n",
            "Average loss: 2.296972, Train accuracy: 0.105706, Val accuracy: 0.109683\n",
            "Average loss: 2.289958, Train accuracy: 0.118008, Val accuracy: 0.123596\n",
            "Average loss: 2.283993, Train accuracy: 0.141453, Val accuracy: 0.149666\n",
            "Average loss: 2.278230, Train accuracy: 0.168805, Val accuracy: 0.176828\n",
            "Average loss: 2.272852, Train accuracy: 0.185698, Val accuracy: 0.187365\n"
          ],
          "name": "stdout"
        }
      ]
    },
    {
      "cell_type": "code",
      "metadata": {
        "id": "qB_hsvXIK5ss",
        "colab_type": "code",
        "colab": {
          "base_uri": "https://localhost:8080/",
          "height": 34
        },
        "outputId": "fe62cc51-6753-4fc7-fcb7-a4745f1969a8"
      },
      "source": [
        "best_val_accuracy = None\n",
        "best_hyperparams = None\n",
        "best_run = None\n",
        "\n",
        "for hyperparams, run_result in run_record.items():\n",
        "    if best_val_accuracy is None or best_val_accuracy < run_result.final_val_accuracy:\n",
        "        best_val_accuracy = run_result.final_val_accuracy\n",
        "        best_hyperparams = hyperparams\n",
        "        best_run = run_result\n",
        "        \n",
        "print(\"Best validation accuracy: %4.2f, best hyperparams: %s\" % (best_val_accuracy, best_hyperparams))\n",
        "        "
      ],
      "execution_count": 19,
      "outputs": [
        {
          "output_type": "stream",
          "text": [
            "Best validation accuracy: 0.90, best hyperparams: Hyperparams(learning_rate=0.1, anneal_epochs=50, reg=1e-07)\n"
          ],
          "name": "stdout"
        }
      ]
    },
    {
      "cell_type": "markdown",
      "metadata": {
        "colab_type": "text",
        "id": "ubeKgBcnhx7N"
      },
      "source": [
        "# Финальный аккорд - проверим лучшую модель на test set\n",
        "\n",
        "В качестве разнообразия - напишите код для прогона модели на test set вы.\n",
        "\n",
        "В результате вы должны натренировать модель, которая покажет более **90%** точности на test set.  \n",
        "Как водится, лучший результат в группе получит дополнительные баллы!"
      ]
    },
    {
      "cell_type": "code",
      "metadata": {
        "colab_type": "code",
        "id": "EIqM1kdeh-hd",
        "colab": {
          "base_uri": "https://localhost:8080/",
          "height": 289
        },
        "outputId": "d70e2fde-6008-4e35-9e50-46c675543a54"
      },
      "source": [
        "# TODO Write the code to compute accuracy on test set\n",
        "from torch.utils.data import DataLoader\n",
        "\n",
        "\n",
        "def train_model_and_compute_accuracy(model, train_loader, val_loader, test_loader, loss, optimizer, num_epochs, scheduler=None):\n",
        "  for epoch in range(num_epochs):\n",
        "      model.train() # Enter train mode\n",
        "      \n",
        "      loss_accum = 0\n",
        "      correct_samples = 0\n",
        "      total_samples = 0\n",
        "      for i_step, (x, y) in enumerate(train_loader):\n",
        "          x_gpu = x.to(device)\n",
        "          y_gpu = y.to(device)\n",
        "          prediction = model(x_gpu)    \n",
        "          loss_value = loss(prediction, y_gpu)\n",
        "          optimizer.zero_grad()\n",
        "          loss_value.backward()\n",
        "          optimizer.step()\n",
        "          \n",
        "          _, indices = torch.max(prediction, 1)\n",
        "          correct_samples += torch.sum(indices == y_gpu)\n",
        "          total_samples += y.shape[0]\n",
        "          \n",
        "          loss_accum += loss_value\n",
        "\n",
        "      ave_loss = loss_accum / i_step\n",
        "      train_accuracy = float(correct_samples) / total_samples\n",
        "      val_accuracy = compute_accuracy(model, val_loader)\n",
        "      \n",
        "      loss_history.append(float(ave_loss))\n",
        "      train_history.append(train_accuracy)\n",
        "      val_history.append(val_accuracy)\n",
        "\n",
        "      if scheduler is not None:\n",
        "        scheduler.step()\n",
        "      \n",
        "      print(\"Average loss: %f, Train accuracy: %f, Val accuracy: %f\" % (ave_loss, train_accuracy, val_accuracy))\n",
        "\n",
        "  model.eval()\n",
        "  acc = np.array([])\n",
        "\n",
        "  for i_step, (x, y) in enumerate(test_loader):\n",
        "      x_gpu = x.to(device)\n",
        "      y_gpu = y.to(device)\n",
        "      acc = np.append(acc, float(sum(model(x_gpu).argmax(dim=1) == y_gpu)) / list(y_gpu.size())[0])\n",
        "      \n",
        "  return acc.mean()\n",
        "\n",
        "test_loader = DataLoader(data_test)\n",
        "loss = nn.CrossEntropyLoss().type(torch.cuda.FloatTensor)\n",
        "optimizer = optim.SGD(best_model.parameters(), lr=best_hyperparams.learning_rate, weight_decay=best_hyperparams.reg)\n",
        "scheduler = optim.lr_scheduler.StepLR(optimizer, step_size=ae,\n",
        "                                        gamma=best_hyperparams.anneal_epochs)\n",
        "\n",
        "final_test_accuracy = train_model_and_compute_accuracy(best_model, train_aug_loader, val_loader, test_loader, loss, optimizer, epoch_num * 3, scheduler=scheduler)\n",
        "print(\"Final test accuracy - \", final_test_accuracy)"
      ],
      "execution_count": 21,
      "outputs": [
        {
          "output_type": "stream",
          "text": [
            "Average loss: 0.221588, Train accuracy: 0.931253, Val accuracy: 0.907467\n",
            "Average loss: 0.212050, Train accuracy: 0.934017, Val accuracy: 0.908547\n",
            "Average loss: 0.205874, Train accuracy: 0.936355, Val accuracy: 0.906732\n",
            "Average loss: 0.201115, Train accuracy: 0.938129, Val accuracy: 0.906346\n",
            "Average loss: 0.195734, Train accuracy: 0.939767, Val accuracy: 0.910360\n",
            "Average loss: 0.191657, Train accuracy: 0.940006, Val accuracy: 0.912339\n",
            "Average loss: 0.182866, Train accuracy: 0.942514, Val accuracy: 0.910582\n",
            "Average loss: 0.181127, Train accuracy: 0.943777, Val accuracy: 0.910235\n",
            "Average loss: 0.178372, Train accuracy: 0.944187, Val accuracy: 0.909991\n",
            "Average loss: 0.172012, Train accuracy: 0.945569, Val accuracy: 0.907927\n",
            "Average loss: 0.171801, Train accuracy: 0.945603, Val accuracy: 0.910247\n",
            "Average loss: 0.165262, Train accuracy: 0.948640, Val accuracy: 0.910673\n",
            "Average loss: 0.161518, Train accuracy: 0.948572, Val accuracy: 0.909559\n",
            "Average loss: 0.158637, Train accuracy: 0.948708, Val accuracy: 0.905067\n",
            "Average loss: 0.158008, Train accuracy: 0.949459, Val accuracy: 0.901655\n",
            "Final test accuracy -  0.8933236017209588\n"
          ],
          "name": "stdout"
        }
      ]
    }
  ]
}