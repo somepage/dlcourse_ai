{
  "nbformat": 4,
  "nbformat_minor": 0,
  "metadata": {
    "accelerator": "GPU",
    "colab": {
      "name": "PyTorch_CNN.ipynb",
      "provenance": [],
      "collapsed_sections": [],
      "toc_visible": true
    },
    "kernelspec": {
      "name": "python3",
      "display_name": "Python 3"
    },
    "language_info": {
      "codemirror_mode": {
        "name": "ipython",
        "version": 3
      },
      "file_extension": ".py",
      "mimetype": "text/x-python",
      "name": "python",
      "nbconvert_exporter": "python",
      "pygments_lexer": "ipython3",
      "version": "3.7.3"
    }
  },
  "cells": [
    {
      "cell_type": "markdown",
      "metadata": {
        "id": "mII0I9Z4uO59",
        "colab_type": "text"
      },
      "source": [
        "# Задание 3.2 - сверточные нейронные сети (CNNs) в PyTorch\n",
        "\n",
        "Это упражнение мы буде выполнять в Google Colab - https://colab.research.google.com/  \n",
        "Google Colab позволяет запускать код в notebook в облаке Google, где можно воспользоваться бесплатным GPU!  \n",
        "\n",
        "Авторы курса благодарят компанию Google и надеятся, что праздник не закончится.\n",
        "\n",
        "Туториал по настройке Google Colab:  \n",
        "https://medium.com/deep-learning-turkey/google-colab-free-gpu-tutorial-e113627b9f5d  \n",
        "(Keras инсталлировать не нужно, наш notebook сам установит PyTorch)\n"
      ]
    },
    {
      "cell_type": "code",
      "metadata": {
        "colab_type": "code",
        "id": "FcXBeP1O7cnY",
        "outputId": "f3cfe8d8-3f59-4ea0-e401-29006ab31253",
        "colab": {
          "base_uri": "https://localhost:8080/",
          "height": 510
        }
      },
      "source": [
        "# Intstall PyTorch and download data\n",
        "!pip3 install torch torchvision\n",
        "\n",
        "!wget -c http://ufldl.stanford.edu/housenumbers/train_32x32.mat http://ufldl.stanford.edu/housenumbers/test_32x32.mat"
      ],
      "execution_count": 1,
      "outputs": [
        {
          "output_type": "stream",
          "text": [
            "Requirement already satisfied: torch in /usr/local/lib/python3.6/dist-packages (1.4.0)\n",
            "Requirement already satisfied: torchvision in /usr/local/lib/python3.6/dist-packages (0.5.0)\n",
            "Requirement already satisfied: six in /usr/local/lib/python3.6/dist-packages (from torchvision) (1.12.0)\n",
            "Requirement already satisfied: pillow>=4.1.1 in /usr/local/lib/python3.6/dist-packages (from torchvision) (7.0.0)\n",
            "Requirement already satisfied: numpy in /usr/local/lib/python3.6/dist-packages (from torchvision) (1.18.2)\n",
            "--2020-04-16 12:23:44--  http://ufldl.stanford.edu/housenumbers/train_32x32.mat\n",
            "Resolving ufldl.stanford.edu (ufldl.stanford.edu)... 171.64.68.10\n",
            "Connecting to ufldl.stanford.edu (ufldl.stanford.edu)|171.64.68.10|:80... connected.\n",
            "HTTP request sent, awaiting response... 200 OK\n",
            "Length: 182040794 (174M) [text/plain]\n",
            "Saving to: ‘train_32x32.mat’\n",
            "\n",
            "train_32x32.mat     100%[===================>] 173.61M  19.2MB/s    in 12s     \n",
            "\n",
            "2020-04-16 12:23:57 (14.5 MB/s) - ‘train_32x32.mat’ saved [182040794/182040794]\n",
            "\n",
            "--2020-04-16 12:23:57--  http://ufldl.stanford.edu/housenumbers/test_32x32.mat\n",
            "Reusing existing connection to ufldl.stanford.edu:80.\n",
            "HTTP request sent, awaiting response... 200 OK\n",
            "Length: 64275384 (61M) [text/plain]\n",
            "Saving to: ‘test_32x32.mat’\n",
            "\n",
            "test_32x32.mat      100%[===================>]  61.30M  20.4MB/s    in 3.0s    \n",
            "\n",
            "2020-04-16 12:24:00 (20.4 MB/s) - ‘test_32x32.mat’ saved [64275384/64275384]\n",
            "\n",
            "FINISHED --2020-04-16 12:24:00--\n",
            "Total wall clock time: 15s\n",
            "Downloaded: 2 files, 235M in 15s (15.7 MB/s)\n"
          ],
          "name": "stdout"
        }
      ]
    },
    {
      "cell_type": "code",
      "metadata": {
        "colab_type": "code",
        "id": "-afwWw-Q85vD",
        "colab": {}
      },
      "source": [
        "from collections import namedtuple\n",
        "\n",
        "import matplotlib.pyplot as plt\n",
        "import numpy as np\n",
        "import PIL\n",
        "import torch\n",
        "import torch.nn as nn\n",
        "import torch.optim as optim\n",
        "import torchvision.datasets as dset\n",
        "from torch.utils.data.sampler import SubsetRandomSampler\n",
        "\n",
        "from torchvision import transforms"
      ],
      "execution_count": 0,
      "outputs": []
    },
    {
      "cell_type": "code",
      "metadata": {
        "colab_type": "code",
        "id": "NNU-OD9O9ltP",
        "colab": {}
      },
      "source": [
        "device = torch.device(\"cuda:0\") # Let's make sure GPU is available!"
      ],
      "execution_count": 0,
      "outputs": []
    },
    {
      "cell_type": "markdown",
      "metadata": {
        "id": "idkEtdPtuO6H",
        "colab_type": "text"
      },
      "source": [
        "# Загружаем данные"
      ]
    },
    {
      "cell_type": "code",
      "metadata": {
        "colab_type": "code",
        "id": "YAvkoRx-9FsP",
        "colab": {}
      },
      "source": [
        "# First, lets load the dataset\n",
        "data_train = dset.SVHN('./', \n",
        "                       transform=transforms.Compose([\n",
        "                           transforms.ToTensor(),\n",
        "                           transforms.Normalize(mean=[0.43,0.44,0.47],\n",
        "                                               std=[0.20,0.20,0.20])                           \n",
        "                       ])\n",
        "                      )\n",
        "data_test = dset.SVHN('./', split='test', transform=transforms.Compose([\n",
        "                           transforms.ToTensor(),\n",
        "                           transforms.Normalize(mean=[0.43,0.44,0.47],\n",
        "                                               std=[0.20,0.20,0.20])                           \n",
        "                       ]))"
      ],
      "execution_count": 0,
      "outputs": []
    },
    {
      "cell_type": "markdown",
      "metadata": {
        "id": "ChO8-mjFuO6K",
        "colab_type": "text"
      },
      "source": [
        "Разделяем данные на training и validation.\n",
        "\n",
        "На всякий случай для подробностей - https://pytorch.org/tutorials/beginner/data_loading_tutorial.html"
      ]
    },
    {
      "cell_type": "code",
      "metadata": {
        "colab_type": "code",
        "id": "YRnr8CPg7Hli",
        "colab": {}
      },
      "source": [
        "batch_size = 64\n",
        "\n",
        "data_size = data_train.data.shape[0]\n",
        "validation_split = .2\n",
        "split = int(np.floor(validation_split * data_size))\n",
        "indices = list(range(data_size))\n",
        "np.random.shuffle(indices)\n",
        "\n",
        "train_indices, val_indices = indices[split:], indices[:split]\n",
        "\n",
        "train_sampler = SubsetRandomSampler(train_indices)\n",
        "val_sampler = SubsetRandomSampler(val_indices)\n",
        "\n",
        "train_loader = torch.utils.data.DataLoader(data_train, batch_size=batch_size, \n",
        "                                           sampler=train_sampler)\n",
        "val_loader = torch.utils.data.DataLoader(data_train, batch_size=batch_size,\n",
        "                                         sampler=val_sampler)"
      ],
      "execution_count": 0,
      "outputs": []
    },
    {
      "cell_type": "code",
      "metadata": {
        "colab_type": "code",
        "id": "LyYvt-T67PBG",
        "colab": {}
      },
      "source": [
        "# We'll use a special helper module to shape it into a flat tensor\n",
        "class Flattener(nn.Module):\n",
        "    def forward(self, x):\n",
        "        batch_size, *_ = x.shape\n",
        "        return x.view(batch_size, -1)"
      ],
      "execution_count": 0,
      "outputs": []
    },
    {
      "cell_type": "markdown",
      "metadata": {
        "id": "-dJPcNIIuO6Q",
        "colab_type": "text"
      },
      "source": [
        "Создадим простейшую сеть с новыми слоями:  \n",
        "Convolutional - `nn.Conv2d`  \n",
        "MaxPool - `nn.MaxPool2d`"
      ]
    },
    {
      "cell_type": "code",
      "metadata": {
        "colab_type": "code",
        "id": "w9SFVGZP7SQd",
        "colab": {}
      },
      "source": [
        "nn_model = nn.Sequential(\n",
        "            nn.Conv2d(3, 64, 3, padding=1),\n",
        "            nn.ReLU(inplace=True),\n",
        "            nn.MaxPool2d(4),\n",
        "            nn.Conv2d(64, 64, 3, padding=1),\n",
        "            nn.ReLU(inplace=True),\n",
        "            nn.MaxPool2d(4),    \n",
        "            Flattener(),\n",
        "            nn.Linear(64*2*2, 10),\n",
        "          )\n",
        "\n",
        "nn_model.type(torch.cuda.FloatTensor)\n",
        "nn_model.to(device)\n",
        "\n",
        "loss = nn.CrossEntropyLoss().type(torch.cuda.FloatTensor)\n",
        "optimizer = optim.SGD(nn_model.parameters(), lr=1e-1, weight_decay=1e-4)"
      ],
      "execution_count": 0,
      "outputs": []
    },
    {
      "cell_type": "markdown",
      "metadata": {
        "id": "JORgcSMMuO6T",
        "colab_type": "text"
      },
      "source": [
        "Восстановите функцию `compute_accuracy` из прошлого задания.  \n",
        "Единственное отличие в новом - она должна передать данные на GPU прежде чем прогонять через модель. Сделайте это так же, как это делает функция `train_model`"
      ]
    },
    {
      "cell_type": "code",
      "metadata": {
        "colab_type": "code",
        "id": "2ek3KVQK7hJ6",
        "outputId": "8fd1863e-c5e4-4f86-8726-df411f00b7b4",
        "colab": {
          "base_uri": "https://localhost:8080/",
          "height": 102
        }
      },
      "source": [
        "def train_model(model, train_loader, val_loader, loss, optimizer, num_epochs, scheduler=None):    \n",
        "    loss_history = []\n",
        "    train_history = []\n",
        "    val_history = []\n",
        "    for epoch in range(num_epochs):\n",
        "        model.train() # Enter train mode\n",
        "        \n",
        "        loss_accum = 0\n",
        "        correct_samples = 0\n",
        "        total_samples = 0\n",
        "        for i_step, (x, y) in enumerate(train_loader):\n",
        "          \n",
        "            x_gpu = x.to(device)\n",
        "            y_gpu = y.to(device)\n",
        "            prediction = model(x_gpu)    \n",
        "            loss_value = loss(prediction, y_gpu)\n",
        "            optimizer.zero_grad()\n",
        "            loss_value.backward()\n",
        "            optimizer.step()\n",
        "            \n",
        "            _, indices = torch.max(prediction, 1)\n",
        "            correct_samples += torch.sum(indices == y_gpu)\n",
        "            total_samples += y.shape[0]\n",
        "            \n",
        "            loss_accum += loss_value\n",
        "\n",
        "        ave_loss = loss_accum / i_step\n",
        "        train_accuracy = float(correct_samples) / total_samples\n",
        "        val_accuracy = compute_accuracy(model, val_loader)\n",
        "        \n",
        "        loss_history.append(float(ave_loss))\n",
        "        train_history.append(train_accuracy)\n",
        "        val_history.append(val_accuracy)\n",
        "\n",
        "        if scheduler is not None:\n",
        "          scheduler.step()\n",
        "        \n",
        "        print(\"Average loss: %f, Train accuracy: %f, Val accuracy: %f\" % (ave_loss, train_accuracy, val_accuracy))\n",
        "        \n",
        "    return loss_history, train_history, val_history\n",
        "        \n",
        "def compute_accuracy(model, loader):\n",
        "    \"\"\"\n",
        "    Computes accuracy on the dataset wrapped in a loader\n",
        "    \n",
        "    Returns: accuracy as a float value between 0 and 1\n",
        "    \"\"\"\n",
        "    model.eval() # Evaluation mode\n",
        "    # TODO: Copy implementation from previous assignment\n",
        "    # Don't forget to move the data to device before running it through the model!\n",
        "    acc = np.array([])\n",
        "   \n",
        "    for i_step, (x, y) in enumerate(loader):\n",
        "        x_gpu = x.to(device)\n",
        "        y_gpu = y.to(device)\n",
        "        acc = np.append(acc, float(sum(model(x_gpu).argmax(dim=1) == y_gpu)) / list(y_gpu.size())[0])\n",
        "        \n",
        "    return acc.mean()\n",
        "\n",
        "loss_history, train_history, val_history = train_model(nn_model, train_loader, val_loader, loss, optimizer, 5)"
      ],
      "execution_count": 8,
      "outputs": [
        {
          "output_type": "stream",
          "text": [
            "Average loss: 1.402834, Train accuracy: 0.532318, Val accuracy: 0.703697\n",
            "Average loss: 0.695264, Train accuracy: 0.788759, Val accuracy: 0.789852\n",
            "Average loss: 0.588710, Train accuracy: 0.822049, Val accuracy: 0.813022\n",
            "Average loss: 0.544613, Train accuracy: 0.837730, Val accuracy: 0.803794\n",
            "Average loss: 0.508817, Train accuracy: 0.847405, Val accuracy: 0.835776\n"
          ],
          "name": "stdout"
        }
      ]
    },
    {
      "cell_type": "markdown",
      "metadata": {
        "colab_type": "text",
        "id": "6a-3a1ZFGEw_"
      },
      "source": [
        "# Аугментация данных (Data augmentation)\n",
        "\n",
        "В работе с изображениями одним из особенно важных методов является аугментация данных - то есть, генерация дополнительных данных для тренировки на основе изначальных.   \n",
        "Таким образом, мы получаем возможность \"увеличить\" набор данных для тренировки, что ведет к лучшей работе сети.\n",
        "Важно, чтобы аугментированные данные были похожи на те, которые могут встретиться в реальной жизни, иначе польза от аугментаций уменьшается и может ухудшить работу сети.\n",
        "\n",
        "С PyTorch идут несколько таких алгоритмов, называемых `transforms`. Более подробно про них можно прочитать тут -\n",
        "https://pytorch.org/tutorials/beginner/data_loading_tutorial.html#transforms\n",
        "\n",
        "Ниже мы используем следующие алгоритмы генерации:\n",
        "- ColorJitter - случайное изменение цвета\n",
        "- RandomHorizontalFlip - горизонтальное отражение с вероятностью 50%\n",
        "- RandomVerticalFlip - вертикальное отражение с вероятностью 50%\n",
        "- RandomRotation - случайный поворот"
      ]
    },
    {
      "cell_type": "code",
      "metadata": {
        "colab_type": "code",
        "id": "jCWMUWmr7t5g",
        "colab": {}
      },
      "source": [
        "tfs = transforms.Compose([\n",
        "    transforms.ColorJitter(hue=.50, saturation=.50),\n",
        "    transforms.RandomHorizontalFlip(),\n",
        "    transforms.RandomVerticalFlip(),\n",
        "    transforms.RandomRotation(50, resample=PIL.Image.BILINEAR),\n",
        "    transforms.ToTensor(),\n",
        "    transforms.Normalize(mean=[0.43,0.44,0.47],\n",
        "                       std=[0.20,0.20,0.20])                           \n",
        "])\n",
        "\n",
        "# Create augmented train dataset\n",
        "data_aug_train = dset.SVHN('./', \n",
        "                       transform=tfs\n",
        "                      )\n",
        "\n",
        "train_aug_loader = torch.utils.data.DataLoader(data_aug_train, batch_size=batch_size, \n",
        "                                           sampler=train_sampler)"
      ],
      "execution_count": 0,
      "outputs": []
    },
    {
      "cell_type": "markdown",
      "metadata": {
        "id": "4ngi80aDuO6b",
        "colab_type": "text"
      },
      "source": [
        "Визуализируем результаты агментации (вообще, смотреть на сгенерированные данные всегда очень полезно)."
      ]
    },
    {
      "cell_type": "code",
      "metadata": {
        "colab_type": "code",
        "id": "YlJJEro1KZ45",
        "outputId": "b733c401-3075-4baf-b979-cf83f5557fce",
        "colab": {
          "base_uri": "https://localhost:8080/",
          "height": 111
        }
      },
      "source": [
        "# TODO: Visualize some augmented images!\n",
        "# hint: you can create new datasets and loaders to accomplish this\n",
        "\n",
        "# Based on the visualizations, should we keep all the augmentations?\n",
        "\n",
        "tfs = transforms.Compose([\n",
        "    transforms.ColorJitter(hue=.20, saturation=.20),\n",
        "    transforms.RandomHorizontalFlip(),\n",
        "    transforms.RandomVerticalFlip(),\n",
        "    transforms.RandomRotation(10, resample=PIL.Image.BILINEAR),\n",
        "])\n",
        "\n",
        "data_aug_vis = dset.SVHN('./', \n",
        "                       transform=tfs\n",
        "                      )\n",
        "\n",
        "plt.figure(figsize=(30, 3))\n",
        "\n",
        "for i, (x, y) in enumerate(data_aug_vis):\n",
        "    if i == 10:\n",
        "        break\n",
        "    plt.subplot(1, 10, i+1)\n",
        "    plt.grid(False)\n",
        "    plt.imshow(x)\n",
        "    plt.axis('off')"
      ],
      "execution_count": 10,
      "outputs": [
        {
          "output_type": "display_data",
          "data": {
            "image/png": "[encoded data removed]",
            "text/plain": [
              "<Figure size 2160x216 with 10 Axes>"
            ]
          },
          "metadata": {
            "tags": [],
            "needs_background": "light"
          }
        }
      ]
    },
    {
      "cell_type": "markdown",
      "metadata": {
        "colab_type": "text",
        "id": "o2LrmsYHoguB"
      },
      "source": [
        "Все ли агментации одинаково полезны на этом наборе данных? Могут ли быть среди них те, которые собьют модель с толку?\n",
        "\n",
        "Выберите из них только корректные"
      ]
    },
    {
      "cell_type": "code",
      "metadata": {
        "colab_type": "code",
        "id": "evro9ksXGs9u",
        "colab": {}
      },
      "source": [
        "# TODO: \n",
        "tfs = transforms.Compose([\n",
        "    # TODO: Add good augmentations\n",
        "    transforms.ColorJitter(hue=.20, saturation=.20),\n",
        "    transforms.RandomRotation(10, resample=PIL.Image.BILINEAR),\n",
        "    transforms.ToTensor(),\n",
        "    transforms.Normalize(mean=[0.43,0.44,0.47],\n",
        "                       std=[0.20,0.20,0.20])                           \n",
        "])\n",
        "\n",
        "# TODO create new instances of loaders with the augmentations you chose\n",
        "data_aug_train = dset.SVHN('./', \n",
        "                       transform=tfs\n",
        "                      )\n",
        "train_aug_loader = torch.utils.data.DataLoader(data_aug_train, batch_size=batch_size, \n",
        "                                           sampler=train_sampler)"
      ],
      "execution_count": 0,
      "outputs": []
    },
    {
      "cell_type": "code",
      "metadata": {
        "colab_type": "code",
        "id": "PeO6Zw0DHqPR",
        "outputId": "52e5f1cd-0d41-4045-e341-a463ef03bbef",
        "colab": {
          "base_uri": "https://localhost:8080/",
          "height": 102
        }
      },
      "source": [
        "# Finally, let's train with augmentations!\n",
        "\n",
        "# Note we shouldn't use augmentations on validation\n",
        "\n",
        "loss_history, train_history, val_history = train_model(nn_model, train_aug_loader, val_loader, loss, optimizer, 5)"
      ],
      "execution_count": 12,
      "outputs": [
        {
          "output_type": "stream",
          "text": [
            "Average loss: 0.603002, Train accuracy: 0.815002, Val accuracy: 0.848747\n",
            "Average loss: 0.557061, Train accuracy: 0.831621, Val accuracy: 0.833878\n",
            "Average loss: 0.532900, Train accuracy: 0.837423, Val accuracy: 0.838319\n",
            "Average loss: 0.517020, Train accuracy: 0.843122, Val accuracy: 0.852369\n",
            "Average loss: 0.504429, Train accuracy: 0.846466, Val accuracy: 0.830961\n"
          ],
          "name": "stdout"
        }
      ]
    },
    {
      "cell_type": "code",
      "metadata": {
        "id": "EZVfFjMzLg46",
        "colab_type": "code",
        "outputId": "a59f81b1-a39c-4c75-b260-f68043e7cfda",
        "colab": {
          "base_uri": "https://localhost:8080/",
          "height": 265
        }
      },
      "source": [
        "plt.plot(train_history)\n",
        "plt.plot(val_history)\n",
        "plt.show()"
      ],
      "execution_count": 13,
      "outputs": [
        {
          "output_type": "display_data",
          "data": {
            "image/png": "[encoded data removed]",
            "text/plain": [
              "<Figure size 432x288 with 1 Axes>"
            ]
          },
          "metadata": {
            "tags": [],
            "needs_background": "light"
          }
        }
      ]
    },
    {
      "cell_type": "markdown",
      "metadata": {
        "colab_type": "text",
        "id": "r0bcioK6JBDK"
      },
      "source": [
        "# LeNet\n",
        "Попробуем имплементировать классическую архитектуру сверточной нейронной сети, предложенную Яном ЛеКуном в 1998 году. В свое время она достигла впечатляющих результатов на MNIST, посмотрим как она справится с SVHN?\n",
        "Она описана в статье [\"Gradient Based Learning Applied to Document Recognition\"](http://yann.lecun.com/exdb/publis/pdf/lecun-01a.pdf), попробуйте прочитать ключевые части и имплементировать предложенную архитетуру на PyTorch.\n",
        "\n",
        "Реализовывать слои и функцию ошибки LeNet, которых нет в PyTorch, **не нужно** - просто возьмите их размеры и переведите в уже известные нам Convolutional, Pooling и Fully Connected layers.\n",
        "\n",
        "Если в статье не очень понятно, можно просто погуглить LeNet и разобраться в деталях :)"
      ]
    },
    {
      "cell_type": "code",
      "metadata": {
        "colab_type": "code",
        "id": "ieEzZUglJAUB",
        "colab": {}
      },
      "source": [
        "# TODO: Implement LeNet-like architecture for SVHN task\n",
        "lenet_model = nn.Sequential(\n",
        "                nn.Conv2d(3, 6, 5),\n",
        "                nn.ReLU(inplace=True),\n",
        "                nn.MaxPool2d(2),\n",
        "                nn.Conv2d(6, 16, 5),\n",
        "                nn.ReLU(inplace=True),\n",
        "                nn.MaxPool2d(2),\n",
        "                Flattener(),\n",
        "                nn.Linear(16*5*5, 120),\n",
        "                nn.ReLU(inplace=True),\n",
        "                nn.Linear(120, 84),\n",
        "                nn.ReLU(inplace=True),\n",
        "                nn.Linear(84, 10)\n",
        "          )\n",
        "\n",
        "lenet_model.type(torch.cuda.FloatTensor)\n",
        "lenet_model.to(device)\n",
        "\n",
        "loss = nn.CrossEntropyLoss().type(torch.cuda.FloatTensor)\n",
        "optimizer = optim.SGD(lenet_model.parameters(), lr=1e-1, weight_decay=1e-4)"
      ],
      "execution_count": 0,
      "outputs": []
    },
    {
      "cell_type": "code",
      "metadata": {
        "colab_type": "code",
        "id": "WMmaPfdeKk9H",
        "outputId": "63784fd3-5504-4bce-8644-6e18ea6adb79",
        "colab": {
          "base_uri": "https://localhost:8080/",
          "height": 187
        }
      },
      "source": [
        "# Let's train it!\n",
        "loss_history, train_history, val_history = train_model(lenet_model, train_aug_loader, val_loader, loss, optimizer, 10)"
      ],
      "execution_count": 15,
      "outputs": [
        {
          "output_type": "stream",
          "text": [
            "Average loss: 1.350792, Train accuracy: 0.541344, Val accuracy: 0.825071\n",
            "Average loss: 0.548201, Train accuracy: 0.836314, Val accuracy: 0.847735\n",
            "Average loss: 0.455300, Train accuracy: 0.862881, Val accuracy: 0.870183\n",
            "Average loss: 0.407360, Train accuracy: 0.877453, Val accuracy: 0.876244\n",
            "Average loss: 0.371361, Train accuracy: 0.888868, Val accuracy: 0.884927\n",
            "Average loss: 0.351551, Train accuracy: 0.894823, Val accuracy: 0.892990\n",
            "Average loss: 0.332538, Train accuracy: 0.898713, Val accuracy: 0.893029\n",
            "Average loss: 0.313990, Train accuracy: 0.905658, Val accuracy: 0.893394\n",
            "Average loss: 0.298731, Train accuracy: 0.911306, Val accuracy: 0.899682\n",
            "Average loss: 0.289369, Train accuracy: 0.912347, Val accuracy: 0.900819\n"
          ],
          "name": "stdout"
        }
      ]
    },
    {
      "cell_type": "markdown",
      "metadata": {
        "colab_type": "text",
        "id": "u_O9qiYySvuj"
      },
      "source": [
        "# Подбор гиперпараметров"
      ]
    },
    {
      "cell_type": "code",
      "metadata": {
        "colab_type": "code",
        "id": "i6mhfdQ9K-N3",
        "outputId": "97955657-d419-4b31-a673-898db5eb3a71",
        "colab": {
          "base_uri": "https://localhost:8080/",
          "height": 1000
        }
      },
      "source": [
        "# The key hyperparameters we're going to tune are learning speed, annealing rate and regularization\n",
        "# We also encourage you to try different optimizers as well\n",
        "\n",
        "Hyperparams = namedtuple(\"Hyperparams\", ['learning_rate', 'anneal_epochs', 'reg'])\n",
        "RunResult = namedtuple(\"RunResult\", ['model', 'train_history', 'val_history', 'final_val_accuracy'])\n",
        "\n",
        "learning_rates = [1e0, 1e-1, 1e-2, 1e-3, 1e-4]\n",
        "anneal_coeff = 0.2\n",
        "anneal_epochs = [1, 5, 10, 15, 20, 50]\n",
        "reg = [1e-3, 1e-4, 1e-5, 1e-7]\n",
        "\n",
        "batch_size = 64\n",
        "epoch_num = 10\n",
        "\n",
        "# Record all the runs here\n",
        "# Key should be Hyperparams and values should be RunResult\n",
        "run_record = {}\n",
        "\n",
        "# Use grid search or random search and record all runs in run_record dictionnary \n",
        "# Important: perform search in logarithmic space!\n",
        "\n",
        "# TODO: Your code here!\n",
        "def weight_reset(m):\n",
        "    if isinstance(m, nn.Conv2d) or isinstance(m, nn.Linear) or isinstance(m, nn.BatchNorm2d):\n",
        "        m.reset_parameters()\n",
        "\n",
        "for i in range(10):\n",
        "  lenet_model.apply(weight_reset)\n",
        "  lr = learning_rates[np.random.randint(len(learning_rates))]\n",
        "  ae = anneal_epochs[np.random.randint(len(anneal_epochs))]\n",
        "  rg = reg[np.random.randint(len(reg))]\n",
        "\n",
        "  loss = nn.CrossEntropyLoss().type(torch.cuda.FloatTensor)\n",
        "  optimizer = optim.SGD(lenet_model.parameters(), lr=lr, weight_decay=rg)\n",
        "  scheduler = optim.lr_scheduler.StepLR(optimizer, step_size=ae,\n",
        "                                        gamma=anneal_coeff)\n",
        "  \n",
        "  loss_history, train_history, val_history = train_model(lenet_model, train_aug_loader, val_loader, loss, optimizer, 10,\n",
        "                                                         scheduler=scheduler)\n",
        "\n",
        "  run_record[Hyperparams(lr, ae, rg)] = RunResult(lenet_model, train_history, val_history, val_history[-1])\n",
        "  \n"
      ],
      "execution_count": 0,
      "outputs": [
        {
          "output_type": "stream",
          "text": [
            "Average loss: 1.558545, Train accuracy: 0.468024, Val accuracy: 0.724525\n",
            "Average loss: 0.592355, Train accuracy: 0.822220, Val accuracy: 0.838325\n",
            "Average loss: 0.483807, Train accuracy: 0.854776, Val accuracy: 0.854422\n",
            "Average loss: 0.434738, Train accuracy: 0.869979, Val accuracy: 0.857418\n",
            "Average loss: 0.395928, Train accuracy: 0.880524, Val accuracy: 0.879792\n",
            "Average loss: 0.371870, Train accuracy: 0.888476, Val accuracy: 0.876956\n",
            "Average loss: 0.349960, Train accuracy: 0.894925, Val accuracy: 0.888072\n",
            "Average loss: 0.336556, Train accuracy: 0.897519, Val accuracy: 0.886740\n",
            "Average loss: 0.318489, Train accuracy: 0.904515, Val accuracy: 0.874960\n",
            "Average loss: 0.307518, Train accuracy: 0.906153, Val accuracy: 0.893251\n",
            "Average loss: 2.303064, Train accuracy: 0.080487, Val accuracy: 0.125058\n",
            "Average loss: 2.284085, Train accuracy: 0.183957, Val accuracy: 0.191100\n",
            "Average loss: 2.266384, Train accuracy: 0.188735, Val accuracy: 0.191129\n",
            "Average loss: 2.249593, Train accuracy: 0.188735, Val accuracy: 0.191117\n",
            "Average loss: 2.241292, Train accuracy: 0.188735, Val accuracy: 0.191158\n",
            "Average loss: 2.238612, Train accuracy: 0.188735, Val accuracy: 0.191100\n",
            "Average loss: 2.237019, Train accuracy: 0.188735, Val accuracy: 0.191071\n",
            "Average loss: 2.235611, Train accuracy: 0.188735, Val accuracy: 0.191112\n",
            "Average loss: 2.233984, Train accuracy: 0.188735, Val accuracy: 0.191094\n",
            "Average loss: 2.231908, Train accuracy: 0.188735, Val accuracy: 0.191094\n",
            "Average loss: 2.250608, Train accuracy: 0.185374, Val accuracy: 0.191123\n",
            "Average loss: 2.224842, Train accuracy: 0.190544, Val accuracy: 0.203621\n",
            "Average loss: 1.966730, Train accuracy: 0.321008, Val accuracy: 0.514030\n",
            "Average loss: 1.156392, Train accuracy: 0.642955, Val accuracy: 0.743716\n",
            "Average loss: 0.776343, Train accuracy: 0.770416, Val accuracy: 0.810793\n",
            "Average loss: 0.647784, Train accuracy: 0.809695, Val accuracy: 0.826907\n",
            "Average loss: 0.583501, Train accuracy: 0.828704, Val accuracy: 0.849185\n",
            "Average loss: 0.539983, Train accuracy: 0.843548, Val accuracy: 0.855763\n",
            "Average loss: 0.507512, Train accuracy: 0.850920, Val accuracy: 0.862120\n",
            "Average loss: 0.479259, Train accuracy: 0.860151, Val accuracy: 0.866237\n",
            "Average loss: 2.244543, Train accuracy: 0.187882, Val accuracy: 0.191106\n",
            "Average loss: 2.243372, Train accuracy: 0.187950, Val accuracy: 0.191094\n",
            "Average loss: 2.242920, Train accuracy: 0.188377, Val accuracy: 0.191094\n",
            "Average loss: 2.243329, Train accuracy: 0.188206, Val accuracy: 0.191135\n",
            "Average loss: 2.243415, Train accuracy: 0.188206, Val accuracy: 0.191100\n",
            "Average loss: 2.242512, Train accuracy: 0.188411, Val accuracy: 0.191106\n",
            "Average loss: 2.243128, Train accuracy: 0.187814, Val accuracy: 0.191106\n",
            "Average loss: 2.243041, Train accuracy: 0.187984, Val accuracy: 0.191141\n",
            "Average loss: 2.243008, Train accuracy: 0.188513, Val accuracy: 0.191112\n",
            "Average loss: 2.243170, Train accuracy: 0.187114, Val accuracy: 0.191112\n",
            "Average loss: 2.236512, Train accuracy: 0.191738, Val accuracy: 0.191123\n",
            "Average loss: 2.243173, Train accuracy: 0.188018, Val accuracy: 0.191117\n",
            "Average loss: 2.243226, Train accuracy: 0.188240, Val accuracy: 0.143463\n",
            "Average loss: 2.243245, Train accuracy: 0.187865, Val accuracy: 0.191083\n",
            "Average loss: 2.243393, Train accuracy: 0.187592, Val accuracy: 0.191117\n",
            "Average loss: 2.243095, Train accuracy: 0.187182, Val accuracy: 0.191112\n",
            "Average loss: 2.243234, Train accuracy: 0.187882, Val accuracy: 0.191100\n",
            "Average loss: 2.243075, Train accuracy: 0.188240, Val accuracy: 0.191117\n",
            "Average loss: 2.242942, Train accuracy: 0.188223, Val accuracy: 0.191100\n",
            "Average loss: 2.243070, Train accuracy: 0.187796, Val accuracy: 0.191117\n",
            "Average loss: 2.304645, Train accuracy: 0.093659, Val accuracy: 0.190281\n",
            "Average loss: 2.281831, Train accuracy: 0.188633, Val accuracy: 0.191117\n",
            "Average loss: 2.260873, Train accuracy: 0.188735, Val accuracy: 0.191106\n",
            "Average loss: 2.248063, Train accuracy: 0.188735, Val accuracy: 0.191100\n",
            "Average loss: 2.242547, Train accuracy: 0.188735, Val accuracy: 0.191129\n",
            "Average loss: 2.240135, Train accuracy: 0.188735, Val accuracy: 0.191123\n",
            "Average loss: 2.239061, Train accuracy: 0.188735, Val accuracy: 0.191100\n",
            "Average loss: 2.238236, Train accuracy: 0.188735, Val accuracy: 0.191089\n",
            "Average loss: 2.237261, Train accuracy: 0.188735, Val accuracy: 0.191106\n",
            "Average loss: 2.236279, Train accuracy: 0.188735, Val accuracy: 0.191100\n",
            "Average loss: 2.254208, Train accuracy: 0.179999, Val accuracy: 0.191123\n",
            "Average loss: 2.233016, Train accuracy: 0.188752, Val accuracy: 0.191112\n",
            "Average loss: 2.146897, Train accuracy: 0.229106, Val accuracy: 0.347493\n",
            "Average loss: 1.564125, Train accuracy: 0.488073, Val accuracy: 0.677923\n",
            "Average loss: 0.942153, Train accuracy: 0.718408, Val accuracy: 0.788425\n",
            "Average loss: 0.734172, Train accuracy: 0.787070, Val accuracy: 0.801519\n",
            "Average loss: 0.701514, Train accuracy: 0.797666, Val accuracy: 0.811066\n",
            "Average loss: 0.679095, Train accuracy: 0.803587, Val accuracy: 0.819265\n",
            "Average loss: 0.657749, Train accuracy: 0.810770, Val accuracy: 0.822404\n",
            "Average loss: 0.637212, Train accuracy: 0.816725, Val accuracy: 0.827788\n",
            "Average loss: 2.312444, Train accuracy: 0.086390, Val accuracy: 0.088502\n",
            "Average loss: 2.310311, Train accuracy: 0.089394, Val accuracy: 0.095422\n",
            "Average loss: 2.308164, Train accuracy: 0.096850, Val accuracy: 0.106345\n",
            "Average loss: 2.306013, Train accuracy: 0.103658, Val accuracy: 0.113782\n"
          ],
          "name": "stdout"
        }
      ]
    },
    {
      "cell_type": "code",
      "metadata": {
        "colab_type": "code",
        "id": "Y6xExdw8JB1l",
        "colab": {}
      },
      "source": [
        "best_val_accuracy = None\n",
        "best_hyperparams = None\n",
        "best_run = None\n",
        "\n",
        "for hyperparams, run_result in run_record.items():\n",
        "    if best_val_accuracy is None or best_val_accuracy < run_result.final_val_accuracy:\n",
        "        best_val_accuracy = run_result.final_val_accuracy\n",
        "        best_hyperparams = hyperparams\n",
        "        best_run = run_result\n",
        "        \n",
        "print(\"Best validation accuracy: %4.2f, best hyperparams: %s\" % (best_val_accuracy, best_hyperparams))\n",
        "        "
      ],
      "execution_count": 0,
      "outputs": []
    },
    {
      "cell_type": "markdown",
      "metadata": {
        "colab_type": "text",
        "id": "LOmsR0uVgtgf"
      },
      "source": [
        "# Свободное упражнение - догоним и перегоним LeNet!\n",
        "\n",
        "Попробуйте найти архитектуру и настройки тренировки, чтобы выступить лучше наших бейзлайнов.\n",
        "\n",
        "Что можно и нужно попробовать:\n",
        "- BatchNormalization (для convolution layers он в PyTorch называется [batchnorm2d](https://pytorch.org/docs/stable/nn.html#batchnorm2d))\n",
        "- Изменить количество слоев и их толщину\n",
        "- Изменять количество эпох тренировки\n",
        "- Попробовать и другие агментации"
      ]
    },
    {
      "cell_type": "code",
      "metadata": {
        "colab_type": "code",
        "id": "tSVhD747icoc",
        "colab": {}
      },
      "source": [
        "best_model = nn.Sequential(\n",
        "                nn.Conv2d(3, 6, 5),\n",
        "                nn.BatchNorm2d(6),\n",
        "                nn.ReLU(inplace=True),\n",
        "                nn.MaxPool2d(2),\n",
        "                nn.Conv2d(6, 16, 5),\n",
        "                nn.BatchNorm2d(16),\n",
        "                nn.ReLU(inplace=True),\n",
        "                nn.MaxPool2d(2),\n",
        "                Flattener(),\n",
        "                nn.Linear(16*5*5, 120),\n",
        "                nn.ReLU(inplace=True),\n",
        "                nn.Linear(120, 84),\n",
        "                nn.ReLU(inplace=True),\n",
        "                nn.Linear(84, 10)\n",
        "          )\n",
        "best_model.type(torch.cuda.FloatTensor)\n",
        "best_model.to(device)\n",
        "\n",
        "batch_size = 64\n",
        "epoch_num = 5\n",
        "run_record = {}\n",
        "for i in range(10):\n",
        "  best_model.apply(weight_reset)\n",
        "  lr = learning_rates[np.random.randint(len(learning_rates))]\n",
        "  ae = anneal_epochs[np.random.randint(len(anneal_epochs))]\n",
        "  rg = reg[np.random.randint(len(reg))]\n",
        "\n",
        "  loss = nn.CrossEntropyLoss().type(torch.cuda.FloatTensor)\n",
        "  optimizer = optim.SGD(best_model.parameters(), lr=lr, weight_decay=rg)\n",
        "  scheduler = optim.lr_scheduler.StepLR(optimizer, step_size=ae,\n",
        "                                        gamma=anneal_coeff)\n",
        "  \n",
        "  loss_history, train_history, val_history = train_model(best_model, train_aug_loader, val_loader, loss, optimizer, epoch_num,\n",
        "                                                         scheduler=scheduler)\n",
        "\n",
        "  run_record[Hyperparams(lr, ae, rg)] = RunResult(lenet_model, train_history, val_history, val_history[-1])"
      ],
      "execution_count": 0,
      "outputs": []
    },
    {
      "cell_type": "code",
      "metadata": {
        "id": "qB_hsvXIK5ss",
        "colab_type": "code",
        "colab": {}
      },
      "source": [
        "best_val_accuracy = None\n",
        "best_hyperparams = None\n",
        "best_run = None\n",
        "\n",
        "for hyperparams, run_result in run_record.items():\n",
        "    if best_val_accuracy is None or best_val_accuracy < run_result.final_val_accuracy:\n",
        "        best_val_accuracy = run_result.final_val_accuracy\n",
        "        best_hyperparams = hyperparams\n",
        "        best_run = run_result\n",
        "        \n",
        "print(\"Best validation accuracy: %4.2f, best hyperparams: %s\" % (best_val_accuracy, best_hyperparams))\n",
        "        "
      ],
      "execution_count": 0,
      "outputs": []
    },
    {
      "cell_type": "markdown",
      "metadata": {
        "colab_type": "text",
        "id": "ubeKgBcnhx7N"
      },
      "source": [
        "# Финальный аккорд - проверим лучшую модель на test set\n",
        "\n",
        "В качестве разнообразия - напишите код для прогона модели на test set вы.\n",
        "\n",
        "В результате вы должны натренировать модель, которая покажет более **90%** точности на test set.  \n",
        "Как водится, лучший результат в группе получит дополнительные баллы!"
      ]
    },
    {
      "cell_type": "code",
      "metadata": {
        "colab_type": "code",
        "id": "EIqM1kdeh-hd",
        "colab": {}
      },
      "source": [
        "# TODO Write the code to compute accuracy on test set\n",
        "from torch.utils.data import DataLoader\n",
        "\n",
        "\n",
        "def train_model_and_compute_accuracy(model, train_loader, val_loader, test_loader, loss, optimizer, num_epochs, scheduler=None):\n",
        "  for epoch in range(num_epochs):\n",
        "      model.train() # Enter train mode\n",
        "      \n",
        "      loss_accum = 0\n",
        "      correct_samples = 0\n",
        "      total_samples = 0\n",
        "      for i_step, (x, y) in enumerate(train_loader):\n",
        "          x_gpu = x.to(device)\n",
        "          y_gpu = y.to(device)\n",
        "          prediction = model(x_gpu)    \n",
        "          loss_value = loss(prediction, y_gpu)\n",
        "          optimizer.zero_grad()\n",
        "          loss_value.backward()\n",
        "          optimizer.step()\n",
        "          \n",
        "          _, indices = torch.max(prediction, 1)\n",
        "          correct_samples += torch.sum(indices == y_gpu)\n",
        "          total_samples += y.shape[0]\n",
        "          \n",
        "          loss_accum += loss_value\n",
        "\n",
        "      ave_loss = loss_accum / i_step\n",
        "      train_accuracy = float(correct_samples) / total_samples\n",
        "      val_accuracy = compute_accuracy(model, val_loader)\n",
        "      \n",
        "      loss_history.append(float(ave_loss))\n",
        "      train_history.append(train_accuracy)\n",
        "      val_history.append(val_accuracy)\n",
        "\n",
        "      if scheduler is not None:\n",
        "        scheduler.step()\n",
        "      \n",
        "      print(\"Average loss: %f, Train accuracy: %f, Val accuracy: %f\" % (ave_loss, train_accuracy, val_accuracy))\n",
        "\n",
        "  model.eval()\n",
        "  acc = np.array([])\n",
        "\n",
        "  for i_step, (x, y) in enumerate(test_loader):\n",
        "      x_gpu = x.to(device)\n",
        "      y_gpu = y.to(device)\n",
        "      acc = np.append(acc, float(sum(model(x_gpu).argmax(dim=1) == y_gpu)) / list(y_gpu.size())[0])\n",
        "      \n",
        "  return acc.mean()\n",
        "\n",
        "test_loader = DataLoader(data_test)\n",
        "loss = nn.CrossEntropyLoss().type(torch.cuda.FloatTensor)\n",
        "optimizer = optim.SGD(best_model.parameters(), lr=best_hyperparams.learning_rate, weight_decay=best_hyperparams.reg)\n",
        "scheduler = optim.lr_scheduler.StepLR(optimizer, step_size=ae,\n",
        "                                        gamma=best_hyperparams.anneal_epochs)\n",
        "\n",
        "final_test_accuracy = train_model_and_compute_accuracy(best_model, train_aug_loader, val_loader, test_loader, loss, optimizer, epoch_num * 3, scheduler=scheduler)\n",
        "print(\"Final test accuracy - \", final_test_accuracy)"
      ],
      "execution_count": 0,
      "outputs": []
    }
  ]
}