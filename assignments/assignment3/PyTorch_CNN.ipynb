{
  "nbformat": 4,
  "nbformat_minor": 0,
  "metadata": {
    "accelerator": "GPU",
    "colab": {
      "name": "PyTorch_CNN.ipynb",
      "provenance": [],
      "collapsed_sections": []
    },
    "kernelspec": {
      "name": "python3",
      "display_name": "Python 3"
    },
    "language_info": {
      "codemirror_mode": {
        "name": "ipython",
        "version": 3
      },
      "file_extension": ".py",
      "mimetype": "text/x-python",
      "name": "python",
      "nbconvert_exporter": "python",
      "pygments_lexer": "ipython3",
      "version": "3.7.3"
    }
  },
  "cells": [
    {
      "cell_type": "markdown",
      "metadata": {
        "id": "mII0I9Z4uO59",
        "colab_type": "text"
      },
      "source": [
        "# Задание 3.2 - сверточные нейронные сети (CNNs) в PyTorch\n",
        "\n",
        "Это упражнение мы буде выполнять в Google Colab - https://colab.research.google.com/  \n",
        "Google Colab позволяет запускать код в notebook в облаке Google, где можно воспользоваться бесплатным GPU!  \n",
        "\n",
        "Авторы курса благодарят компанию Google и надеятся, что праздник не закончится.\n",
        "\n",
        "Туториал по настройке Google Colab:  \n",
        "https://medium.com/deep-learning-turkey/google-colab-free-gpu-tutorial-e113627b9f5d  \n",
        "(Keras инсталлировать не нужно, наш notebook сам установит PyTorch)\n"
      ]
    },
    {
      "cell_type": "code",
      "metadata": {
        "colab_type": "code",
        "id": "FcXBeP1O7cnY",
        "outputId": "e295c277-93ec-40c5-a7c2-059eef2c7d29",
        "colab": {
          "base_uri": "https://localhost:8080/",
          "height": 323
        }
      },
      "source": [
        "# Intstall PyTorch and download data\n",
        "!pip3 install torch torchvision\n",
        "\n",
        "!wget -c http://ufldl.stanford.edu/housenumbers/train_32x32.mat http://ufldl.stanford.edu/housenumbers/test_32x32.mat"
      ],
      "execution_count": 1,
      "outputs": [
        {
          "output_type": "stream",
          "text": [
            "Requirement already satisfied: torch in /usr/local/lib/python3.6/dist-packages (1.4.0)\n",
            "Requirement already satisfied: torchvision in /usr/local/lib/python3.6/dist-packages (0.5.0)\n",
            "Requirement already satisfied: pillow>=4.1.1 in /usr/local/lib/python3.6/dist-packages (from torchvision) (7.0.0)\n",
            "Requirement already satisfied: numpy in /usr/local/lib/python3.6/dist-packages (from torchvision) (1.18.2)\n",
            "Requirement already satisfied: six in /usr/local/lib/python3.6/dist-packages (from torchvision) (1.12.0)\n",
            "--2020-04-09 08:32:05--  http://ufldl.stanford.edu/housenumbers/train_32x32.mat\n",
            "Resolving ufldl.stanford.edu (ufldl.stanford.edu)... 171.64.68.10\n",
            "Connecting to ufldl.stanford.edu (ufldl.stanford.edu)|171.64.68.10|:80... connected.\n",
            "HTTP request sent, awaiting response... 416 Requested Range Not Satisfiable\n",
            "\n",
            "    The file is already fully retrieved; nothing to do.\n",
            "\n",
            "--2020-04-09 08:32:05--  http://ufldl.stanford.edu/housenumbers/test_32x32.mat\n",
            "Reusing existing connection to ufldl.stanford.edu:80.\n",
            "HTTP request sent, awaiting response... 416 Requested Range Not Satisfiable\n",
            "\n",
            "    The file is already fully retrieved; nothing to do.\n",
            "\n"
          ],
          "name": "stdout"
        }
      ]
    },
    {
      "cell_type": "code",
      "metadata": {
        "colab_type": "code",
        "id": "-afwWw-Q85vD",
        "colab": {}
      },
      "source": [
        "from collections import namedtuple\n",
        "\n",
        "import matplotlib.pyplot as plt\n",
        "import numpy as np\n",
        "import PIL\n",
        "import torch\n",
        "import torch.nn as nn\n",
        "import torch.optim as optim\n",
        "import torchvision.datasets as dset\n",
        "from torch.utils.data.sampler import SubsetRandomSampler\n",
        "\n",
        "from torchvision import transforms"
      ],
      "execution_count": 0,
      "outputs": []
    },
    {
      "cell_type": "code",
      "metadata": {
        "colab_type": "code",
        "id": "NNU-OD9O9ltP",
        "colab": {}
      },
      "source": [
        "device = torch.device(\"cuda:0\") # Let's make sure GPU is available!"
      ],
      "execution_count": 0,
      "outputs": []
    },
    {
      "cell_type": "markdown",
      "metadata": {
        "id": "idkEtdPtuO6H",
        "colab_type": "text"
      },
      "source": [
        "# Загружаем данные"
      ]
    },
    {
      "cell_type": "code",
      "metadata": {
        "colab_type": "code",
        "id": "YAvkoRx-9FsP",
        "colab": {}
      },
      "source": [
        "# First, lets load the dataset\n",
        "data_train = dset.SVHN('./', \n",
        "                       transform=transforms.Compose([\n",
        "                           transforms.ToTensor(),\n",
        "                           transforms.Normalize(mean=[0.43,0.44,0.47],\n",
        "                                               std=[0.20,0.20,0.20])                           \n",
        "                       ])\n",
        "                      )\n",
        "data_test = dset.SVHN('./', split='test', transform=transforms.Compose([\n",
        "                           transforms.ToTensor(),\n",
        "                           transforms.Normalize(mean=[0.43,0.44,0.47],\n",
        "                                               std=[0.20,0.20,0.20])                           \n",
        "                       ]))"
      ],
      "execution_count": 0,
      "outputs": []
    },
    {
      "cell_type": "markdown",
      "metadata": {
        "id": "ChO8-mjFuO6K",
        "colab_type": "text"
      },
      "source": [
        "Разделяем данные на training и validation.\n",
        "\n",
        "На всякий случай для подробностей - https://pytorch.org/tutorials/beginner/data_loading_tutorial.html"
      ]
    },
    {
      "cell_type": "code",
      "metadata": {
        "colab_type": "code",
        "id": "YRnr8CPg7Hli",
        "colab": {}
      },
      "source": [
        "batch_size = 64\n",
        "\n",
        "data_size = data_train.data.shape[0]\n",
        "validation_split = .2\n",
        "split = int(np.floor(validation_split * data_size))\n",
        "indices = list(range(data_size))\n",
        "np.random.shuffle(indices)\n",
        "\n",
        "train_indices, val_indices = indices[split:], indices[:split]\n",
        "\n",
        "train_sampler = SubsetRandomSampler(train_indices)\n",
        "val_sampler = SubsetRandomSampler(val_indices)\n",
        "\n",
        "train_loader = torch.utils.data.DataLoader(data_train, batch_size=batch_size, \n",
        "                                           sampler=train_sampler)\n",
        "val_loader = torch.utils.data.DataLoader(data_train, batch_size=batch_size,\n",
        "                                         sampler=val_sampler)"
      ],
      "execution_count": 0,
      "outputs": []
    },
    {
      "cell_type": "code",
      "metadata": {
        "colab_type": "code",
        "id": "LyYvt-T67PBG",
        "colab": {}
      },
      "source": [
        "# We'll use a special helper module to shape it into a flat tensor\n",
        "class Flattener(nn.Module):\n",
        "    def forward(self, x):\n",
        "        batch_size, *_ = x.shape\n",
        "        return x.view(batch_size, -1)"
      ],
      "execution_count": 0,
      "outputs": []
    },
    {
      "cell_type": "markdown",
      "metadata": {
        "id": "-dJPcNIIuO6Q",
        "colab_type": "text"
      },
      "source": [
        "Создадим простейшую сеть с новыми слоями:  \n",
        "Convolutional - `nn.Conv2d`  \n",
        "MaxPool - `nn.MaxPool2d`"
      ]
    },
    {
      "cell_type": "code",
      "metadata": {
        "colab_type": "code",
        "id": "w9SFVGZP7SQd",
        "colab": {}
      },
      "source": [
        "nn_model = nn.Sequential(\n",
        "            nn.Conv2d(3, 64, 3, padding=1),\n",
        "            nn.ReLU(inplace=True),\n",
        "            nn.MaxPool2d(4),\n",
        "            nn.Conv2d(64, 64, 3, padding=1),\n",
        "            nn.ReLU(inplace=True),\n",
        "            nn.MaxPool2d(4),    \n",
        "            Flattener(),\n",
        "            nn.Linear(64*2*2, 10),\n",
        "          )\n",
        "\n",
        "nn_model.type(torch.cuda.FloatTensor)\n",
        "nn_model.to(device)\n",
        "\n",
        "loss = nn.CrossEntropyLoss().type(torch.cuda.FloatTensor)\n",
        "optimizer = optim.SGD(nn_model.parameters(), lr=1e-1, weight_decay=1e-4)"
      ],
      "execution_count": 0,
      "outputs": []
    },
    {
      "cell_type": "markdown",
      "metadata": {
        "id": "JORgcSMMuO6T",
        "colab_type": "text"
      },
      "source": [
        "Восстановите функцию `compute_accuracy` из прошлого задания.  \n",
        "Единственное отличие в новом - она должна передать данные на GPU прежде чем прогонять через модель. Сделайте это так же, как это делает функция `train_model`"
      ]
    },
    {
      "cell_type": "code",
      "metadata": {
        "colab_type": "code",
        "id": "2ek3KVQK7hJ6",
        "outputId": "14278bd9-5f0e-44a3-dec4-fb68384b5665",
        "colab": {
          "base_uri": "https://localhost:8080/",
          "height": 102
        }
      },
      "source": [
        "def train_model(model, train_loader, val_loader, loss, optimizer, num_epochs, scheduler=None):    \n",
        "    loss_history = []\n",
        "    train_history = []\n",
        "    val_history = []\n",
        "    for epoch in range(num_epochs):\n",
        "        model.train() # Enter train mode\n",
        "        \n",
        "        loss_accum = 0\n",
        "        correct_samples = 0\n",
        "        total_samples = 0\n",
        "        for i_step, (x, y) in enumerate(train_loader):\n",
        "          \n",
        "            x_gpu = x.to(device)\n",
        "            y_gpu = y.to(device)\n",
        "            prediction = model(x_gpu)    \n",
        "            loss_value = loss(prediction, y_gpu)\n",
        "            optimizer.zero_grad()\n",
        "            loss_value.backward()\n",
        "            optimizer.step()\n",
        "            \n",
        "            _, indices = torch.max(prediction, 1)\n",
        "            correct_samples += torch.sum(indices == y_gpu)\n",
        "            total_samples += y.shape[0]\n",
        "            \n",
        "            loss_accum += loss_value\n",
        "\n",
        "        ave_loss = loss_accum / i_step\n",
        "        train_accuracy = float(correct_samples) / total_samples\n",
        "        val_accuracy = compute_accuracy(model, val_loader)\n",
        "        \n",
        "        loss_history.append(float(ave_loss))\n",
        "        train_history.append(train_accuracy)\n",
        "        val_history.append(val_accuracy)\n",
        "\n",
        "        if scheduler is not None:\n",
        "          scheduler.step()\n",
        "        \n",
        "        print(\"Average loss: %f, Train accuracy: %f, Val accuracy: %f\" % (ave_loss, train_accuracy, val_accuracy))\n",
        "        \n",
        "    return loss_history, train_history, val_history\n",
        "        \n",
        "def compute_accuracy(model, loader):\n",
        "    \"\"\"\n",
        "    Computes accuracy on the dataset wrapped in a loader\n",
        "    \n",
        "    Returns: accuracy as a float value between 0 and 1\n",
        "    \"\"\"\n",
        "    model.eval() # Evaluation mode\n",
        "    # TODO: Copy implementation from previous assignment\n",
        "    # Don't forget to move the data to device before running it through the model!\n",
        "    acc = np.array([])\n",
        "   \n",
        "    for i_step, (x, y) in enumerate(loader):\n",
        "        x_gpu = x.to(device)\n",
        "        y_gpu = y.to(device)\n",
        "        acc = np.append(acc, float(sum(model(x_gpu).argmax(dim=1) == y_gpu)) / list(y_gpu.size())[0])\n",
        "        \n",
        "    return acc.mean()\n",
        "\n",
        "loss_history, train_history, val_history = train_model(nn_model, train_loader, val_loader, loss, optimizer, 5)"
      ],
      "execution_count": 8,
      "outputs": [
        {
          "output_type": "stream",
          "text": [
            "Average loss: 1.451612, Train accuracy: 0.516261, Val accuracy: 0.747338\n",
            "Average loss: 0.716997, Train accuracy: 0.780637, Val accuracy: 0.766852\n",
            "Average loss: 0.599509, Train accuracy: 0.819558, Val accuracy: 0.812113\n",
            "Average loss: 0.545892, Train accuracy: 0.837559, Val accuracy: 0.836187\n",
            "Average loss: 0.515698, Train accuracy: 0.845681, Val accuracy: 0.839394\n"
          ],
          "name": "stdout"
        }
      ]
    },
    {
      "cell_type": "markdown",
      "metadata": {
        "colab_type": "text",
        "id": "6a-3a1ZFGEw_"
      },
      "source": [
        "# Аугментация данных (Data augmentation)\n",
        "\n",
        "В работе с изображениями одним из особенно важных методов является аугментация данных - то есть, генерация дополнительных данных для тренировки на основе изначальных.   \n",
        "Таким образом, мы получаем возможность \"увеличить\" набор данных для тренировки, что ведет к лучшей работе сети.\n",
        "Важно, чтобы аугментированные данные были похожи на те, которые могут встретиться в реальной жизни, иначе польза от аугментаций уменьшается и может ухудшить работу сети.\n",
        "\n",
        "С PyTorch идут несколько таких алгоритмов, называемых `transforms`. Более подробно про них можно прочитать тут -\n",
        "https://pytorch.org/tutorials/beginner/data_loading_tutorial.html#transforms\n",
        "\n",
        "Ниже мы используем следующие алгоритмы генерации:\n",
        "- ColorJitter - случайное изменение цвета\n",
        "- RandomHorizontalFlip - горизонтальное отражение с вероятностью 50%\n",
        "- RandomVerticalFlip - вертикальное отражение с вероятностью 50%\n",
        "- RandomRotation - случайный поворот"
      ]
    },
    {
      "cell_type": "code",
      "metadata": {
        "colab_type": "code",
        "id": "jCWMUWmr7t5g",
        "colab": {}
      },
      "source": [
        "tfs = transforms.Compose([\n",
        "    transforms.ColorJitter(hue=.50, saturation=.50),\n",
        "    transforms.RandomHorizontalFlip(),\n",
        "    transforms.RandomVerticalFlip(),\n",
        "    transforms.RandomRotation(50, resample=PIL.Image.BILINEAR),\n",
        "    transforms.ToTensor(),\n",
        "    transforms.Normalize(mean=[0.43,0.44,0.47],\n",
        "                       std=[0.20,0.20,0.20])                           \n",
        "])\n",
        "\n",
        "# Create augmented train dataset\n",
        "data_aug_train = dset.SVHN('./', \n",
        "                       transform=tfs\n",
        "                      )\n",
        "\n",
        "train_aug_loader = torch.utils.data.DataLoader(data_aug_train, batch_size=batch_size, \n",
        "                                           sampler=train_sampler)"
      ],
      "execution_count": 0,
      "outputs": []
    },
    {
      "cell_type": "markdown",
      "metadata": {
        "id": "4ngi80aDuO6b",
        "colab_type": "text"
      },
      "source": [
        "Визуализируем результаты агментации (вообще, смотреть на сгенерированные данные всегда очень полезно)."
      ]
    },
    {
      "cell_type": "code",
      "metadata": {
        "colab_type": "code",
        "id": "YlJJEro1KZ45",
        "outputId": "1b8aae75-4866-49b5-f050-93293c84de06",
        "colab": {
          "base_uri": "https://localhost:8080/",
          "height": 111
        }
      },
      "source": [
        "# TODO: Visualize some augmented images!\n",
        "# hint: you can create new datasets and loaders to accomplish this\n",
        "\n",
        "# Based on the visualizations, should we keep all the augmentations?\n",
        "\n",
        "tfs = transforms.Compose([\n",
        "    transforms.ColorJitter(hue=.20, saturation=.20),\n",
        "    transforms.RandomHorizontalFlip(),\n",
        "    transforms.RandomVerticalFlip(),\n",
        "    transforms.RandomRotation(10, resample=PIL.Image.BILINEAR),\n",
        "])\n",
        "\n",
        "data_aug_vis = dset.SVHN('./', \n",
        "                       transform=tfs\n",
        "                      )\n",
        "\n",
        "plt.figure(figsize=(30, 3))\n",
        "\n",
        "for i, (x, y) in enumerate(data_aug_vis):\n",
        "    if i == 10:\n",
        "        break\n",
        "    plt.subplot(1, 10, i+1)\n",
        "    plt.grid(False)\n",
        "    plt.imshow(x)\n",
        "    plt.axis('off')"
      ],
      "execution_count": 10,
      "outputs": [
        {
          "output_type": "display_data",
          "data": {
            "image/png": "[encoded data removed]",
            "text/plain": [
              "<Figure size 2160x216 with 10 Axes>"
            ]
          },
          "metadata": {
            "tags": []
          }
        }
      ]
    },
    {
      "cell_type": "markdown",
      "metadata": {
        "colab_type": "text",
        "id": "o2LrmsYHoguB"
      },
      "source": [
        "Все ли агментации одинаково полезны на этом наборе данных? Могут ли быть среди них те, которые собьют модель с толку?\n",
        "\n",
        "Выберите из них только корректные"
      ]
    },
    {
      "cell_type": "code",
      "metadata": {
        "colab_type": "code",
        "id": "evro9ksXGs9u",
        "colab": {}
      },
      "source": [
        "# TODO: \n",
        "tfs = transforms.Compose([\n",
        "    # TODO: Add good augmentations\n",
        "    transforms.ColorJitter(hue=.20, saturation=.20),\n",
        "    transforms.RandomRotation(10, resample=PIL.Image.BILINEAR),\n",
        "    transforms.ToTensor(),\n",
        "    transforms.Normalize(mean=[0.43,0.44,0.47],\n",
        "                       std=[0.20,0.20,0.20])                           \n",
        "])\n",
        "\n",
        "# TODO create new instances of loaders with the augmentations you chose\n",
        "data_aug_train = dset.SVHN('./', \n",
        "                       transform=tfs\n",
        "                      )\n",
        "train_aug_loader = torch.utils.data.DataLoader(data_aug_train, batch_size=batch_size, \n",
        "                                           sampler=train_sampler)"
      ],
      "execution_count": 0,
      "outputs": []
    },
    {
      "cell_type": "code",
      "metadata": {
        "colab_type": "code",
        "id": "PeO6Zw0DHqPR",
        "outputId": "4b2980cc-ca64-4653-a7cf-cc3e88723de1",
        "colab": {
          "base_uri": "https://localhost:8080/",
          "height": 102
        }
      },
      "source": [
        "# Finally, let's train with augmentations!\n",
        "\n",
        "# Note we shouldn't use augmentations on validation\n",
        "\n",
        "loss_history, train_history, val_history = train_model(nn_model, train_aug_loader, val_loader, loss, optimizer, 5)"
      ],
      "execution_count": 12,
      "outputs": [
        {
          "output_type": "stream",
          "text": [
            "Average loss: 0.599293, Train accuracy: 0.818124, Val accuracy: 0.831547\n",
            "Average loss: 0.555581, Train accuracy: 0.830563, Val accuracy: 0.852443\n",
            "Average loss: 0.538684, Train accuracy: 0.836126, Val accuracy: 0.847456\n",
            "Average loss: 0.527244, Train accuracy: 0.839453, Val accuracy: 0.821068\n",
            "Average loss: 0.508886, Train accuracy: 0.845818, Val accuracy: 0.848554\n"
          ],
          "name": "stdout"
        }
      ]
    },
    {
      "cell_type": "code",
      "metadata": {
        "id": "EZVfFjMzLg46",
        "colab_type": "code",
        "outputId": "9de2e0e2-6bac-40ce-a6ac-c7442f287127",
        "colab": {
          "base_uri": "https://localhost:8080/",
          "height": 265
        }
      },
      "source": [
        "plt.plot(train_history)\n",
        "plt.plot(val_history)\n",
        "plt.show()"
      ],
      "execution_count": 13,
      "outputs": [
        {
          "output_type": "display_data",
          "data": {
            "image/png": "[encoded data removed]",
            "text/plain": [
              "<Figure size 432x288 with 1 Axes>"
            ]
          },
          "metadata": {
            "tags": []
          }
        }
      ]
    },
    {
      "cell_type": "markdown",
      "metadata": {
        "colab_type": "text",
        "id": "r0bcioK6JBDK"
      },
      "source": [
        "# LeNet\n",
        "Попробуем имплементировать классическую архитектуру сверточной нейронной сети, предложенную Яном ЛеКуном в 1998 году. В свое время она достигла впечатляющих результатов на MNIST, посмотрим как она справится с SVHN?\n",
        "Она описана в статье [\"Gradient Based Learning Applied to Document Recognition\"](http://yann.lecun.com/exdb/publis/pdf/lecun-01a.pdf), попробуйте прочитать ключевые части и имплементировать предложенную архитетуру на PyTorch.\n",
        "\n",
        "Реализовывать слои и функцию ошибки LeNet, которых нет в PyTorch, **не нужно** - просто возьмите их размеры и переведите в уже известные нам Convolutional, Pooling и Fully Connected layers.\n",
        "\n",
        "Если в статье не очень понятно, можно просто погуглить LeNet и разобраться в деталях :)"
      ]
    },
    {
      "cell_type": "code",
      "metadata": {
        "colab_type": "code",
        "id": "ieEzZUglJAUB",
        "colab": {}
      },
      "source": [
        "# TODO: Implement LeNet-like architecture for SVHN task\n",
        "lenet_model = nn.Sequential(\n",
        "                nn.Conv2d(3, 6, 5),\n",
        "                nn.ReLU(inplace=True),\n",
        "                nn.MaxPool2d(2),\n",
        "                nn.Conv2d(6, 16, 5),\n",
        "                nn.ReLU(inplace=True),\n",
        "                nn.MaxPool2d(2),\n",
        "                Flattener(),\n",
        "                nn.Linear(16*5*5, 120),\n",
        "                nn.ReLU(inplace=True),\n",
        "                nn.Linear(120, 84),\n",
        "                nn.ReLU(inplace=True),\n",
        "                nn.Linear(84, 10)\n",
        "          )\n",
        "\n",
        "lenet_model.type(torch.cuda.FloatTensor)\n",
        "lenet_model.to(device)\n",
        "\n",
        "loss = nn.CrossEntropyLoss().type(torch.cuda.FloatTensor)\n",
        "optimizer = optim.SGD(lenet_model.parameters(), lr=1e-1, weight_decay=1e-4)"
      ],
      "execution_count": 0,
      "outputs": []
    },
    {
      "cell_type": "code",
      "metadata": {
        "colab_type": "code",
        "id": "WMmaPfdeKk9H",
        "colab": {
          "base_uri": "https://localhost:8080/",
          "height": 187
        },
        "outputId": "55de0283-c6d6-4fb8-a5eb-b18dc0ddb1bc"
      },
      "source": [
        "# Let's train it!\n",
        "loss_history, train_history, val_history = train_model(lenet_model, train_aug_loader, val_loader, loss, optimizer, 10)"
      ],
      "execution_count": 15,
      "outputs": [
        {
          "output_type": "stream",
          "text": [
            "Average loss: 1.308865, Train accuracy: 0.560728, Val accuracy: 0.831598\n",
            "Average loss: 0.584141, Train accuracy: 0.823619, Val accuracy: 0.849884\n",
            "Average loss: 0.485520, Train accuracy: 0.852984, Val accuracy: 0.867255\n",
            "Average loss: 0.428943, Train accuracy: 0.871856, Val accuracy: 0.870149\n",
            "Average loss: 0.397228, Train accuracy: 0.879944, Val accuracy: 0.882681\n",
            "Average loss: 0.375224, Train accuracy: 0.886530, Val accuracy: 0.888418\n",
            "Average loss: 0.352289, Train accuracy: 0.894618, Val accuracy: 0.892495\n",
            "Average loss: 0.335854, Train accuracy: 0.898099, Val accuracy: 0.900638\n",
            "Average loss: 0.322650, Train accuracy: 0.901239, Val accuracy: 0.896123\n",
            "Average loss: 0.308629, Train accuracy: 0.907091, Val accuracy: 0.896197\n"
          ],
          "name": "stdout"
        }
      ]
    },
    {
      "cell_type": "markdown",
      "metadata": {
        "colab_type": "text",
        "id": "u_O9qiYySvuj"
      },
      "source": [
        "# Подбор гиперпараметров"
      ]
    },
    {
      "cell_type": "code",
      "metadata": {
        "colab_type": "code",
        "id": "i6mhfdQ9K-N3",
        "colab": {
          "base_uri": "https://localhost:8080/",
          "height": 1000
        },
        "outputId": "5a32b248-8111-4e69-b40c-5d3b6b3e9f71"
      },
      "source": [
        "# The key hyperparameters we're going to tune are learning speed, annealing rate and regularization\n",
        "# We also encourage you to try different optimizers as well\n",
        "\n",
        "Hyperparams = namedtuple(\"Hyperparams\", ['learning_rate', 'anneal_epochs', 'reg'])\n",
        "RunResult = namedtuple(\"RunResult\", ['model', 'train_history', 'val_history', 'final_val_accuracy'])\n",
        "\n",
        "learning_rates = [1e0, 1e-1, 1e-2, 1e-3, 1e-4]\n",
        "anneal_coeff = 0.2\n",
        "anneal_epochs = [1, 5, 10, 15, 20, 50]\n",
        "reg = [1e-3, 1e-4, 1e-5, 1e-7]\n",
        "\n",
        "batch_size = 64\n",
        "epoch_num = 10\n",
        "\n",
        "# Record all the runs here\n",
        "# Key should be Hyperparams and values should be RunResult\n",
        "run_record = {}\n",
        "\n",
        "# Use grid search or random search and record all runs in run_record dictionnary \n",
        "# Important: perform search in logarithmic space!\n",
        "\n",
        "# TODO: Your code here!\n",
        "def weight_reset(m):\n",
        "    if isinstance(m, nn.Conv2d) or isinstance(m, nn.Linear):\n",
        "        m.reset_parameters()\n",
        "\n",
        "for i in range(10):\n",
        "  lenet_model.apply(weight_reset)\n",
        "  lr = learning_rates[np.random.randint(len(learning_rates))]\n",
        "  ae = anneal_epochs[np.random.randint(len(anneal_epochs))]\n",
        "  rg = reg[np.random.randint(len(reg))]\n",
        "\n",
        "  loss = nn.CrossEntropyLoss().type(torch.cuda.FloatTensor)\n",
        "  optimizer = optim.SGD(lenet_model.parameters(), lr=lr, weight_decay=rg)\n",
        "  scheduler = optim.lr_scheduler.StepLR(optimizer, step_size=ae,\n",
        "                                        gamma=anneal_coeff)\n",
        "  \n",
        "  loss_history, train_history, val_history = train_model(lenet_model, train_aug_loader, val_loader, loss, optimizer, 10,\n",
        "                                                         scheduler=scheduler)\n",
        "\n",
        "  run_record[Hyperparams(lr, ae, rg)] = RunResult(lenet_model, train_history, val_history, val_history[-1])\n",
        "  \n"
      ],
      "execution_count": 18,
      "outputs": [
        {
          "output_type": "stream",
          "text": [
            "Average loss: 1.412417, Train accuracy: 0.523547, Val accuracy: 0.822728\n",
            "Average loss: 0.587534, Train accuracy: 0.825393, Val accuracy: 0.844466\n",
            "Average loss: 0.483749, Train accuracy: 0.855134, Val accuracy: 0.880071\n",
            "Average loss: 0.423627, Train accuracy: 0.872880, Val accuracy: 0.886514\n",
            "Average loss: 0.387423, Train accuracy: 0.885114, Val accuracy: 0.883898\n",
            "Average loss: 0.362564, Train accuracy: 0.891735, Val accuracy: 0.889698\n",
            "Average loss: 0.340202, Train accuracy: 0.898167, Val accuracy: 0.896856\n",
            "Average loss: 0.324586, Train accuracy: 0.903030, Val accuracy: 0.894957\n",
            "Average loss: 0.307188, Train accuracy: 0.907672, Val accuracy: 0.897550\n",
            "Average loss: 0.296829, Train accuracy: 0.910623, Val accuracy: 0.898499\n",
            "Average loss: 1.402264, Train accuracy: 0.520032, Val accuracy: 0.791000\n",
            "Average loss: 0.579901, Train accuracy: 0.825700, Val accuracy: 0.861802\n",
            "Average loss: 0.477046, Train accuracy: 0.857114, Val accuracy: 0.836783\n",
            "Average loss: 0.421873, Train accuracy: 0.872692, Val accuracy: 0.885814\n",
            "Average loss: 0.382576, Train accuracy: 0.885694, Val accuracy: 0.879178\n",
            "Average loss: 0.361729, Train accuracy: 0.891769, Val accuracy: 0.885968\n",
            "Average loss: 0.336960, Train accuracy: 0.899225, Val accuracy: 0.893928\n",
            "Average loss: 0.320474, Train accuracy: 0.903713, Val accuracy: 0.899261\n",
            "Average loss: 0.315499, Train accuracy: 0.905061, Val accuracy: 0.899921\n",
            "Average loss: 0.300069, Train accuracy: 0.909975, Val accuracy: 0.898864\n",
            "Average loss: 2.311875, Train accuracy: 0.116234, Val accuracy: 0.115357\n",
            "Average loss: 2.309381, Train accuracy: 0.116114, Val accuracy: 0.115420\n",
            "Average loss: 2.306973, Train accuracy: 0.116149, Val accuracy: 0.115455\n",
            "Average loss: 2.304685, Train accuracy: 0.116114, Val accuracy: 0.115449\n",
            "Average loss: 2.302454, Train accuracy: 0.116166, Val accuracy: 0.115408\n",
            "Average loss: 2.301135, Train accuracy: 0.116131, Val accuracy: 0.115391\n",
            "Average loss: 2.300724, Train accuracy: 0.116114, Val accuracy: 0.115414\n",
            "Average loss: 2.300294, Train accuracy: 0.116131, Val accuracy: 0.115420\n",
            "Average loss: 2.299881, Train accuracy: 0.116114, Val accuracy: 0.115431\n",
            "Average loss: 2.299471, Train accuracy: 0.116080, Val accuracy: 0.115414\n",
            "Average loss: 1.420483, Train accuracy: 0.518531, Val accuracy: 0.818788\n",
            "Average loss: 0.575740, Train accuracy: 0.827833, Val accuracy: 0.840497\n",
            "Average loss: 0.478179, Train accuracy: 0.856636, Val accuracy: 0.875665\n",
            "Average loss: 0.425276, Train accuracy: 0.873102, Val accuracy: 0.885951\n",
            "Average loss: 0.393335, Train accuracy: 0.883118, Val accuracy: 0.889516\n",
            "Average loss: 0.367835, Train accuracy: 0.890813, Val accuracy: 0.894474\n",
            "Average loss: 0.345286, Train accuracy: 0.897638, Val accuracy: 0.888316\n",
            "Average loss: 0.333008, Train accuracy: 0.901529, Val accuracy: 0.892017\n",
            "Average loss: 0.317581, Train accuracy: 0.903798, Val accuracy: 0.898573\n",
            "Average loss: 0.308195, Train accuracy: 0.907791, Val accuracy: 0.897351\n",
            "Average loss: 2.309587, Train accuracy: 0.143398, Val accuracy: 0.148387\n",
            "Average loss: 2.307446, Train accuracy: 0.143501, Val accuracy: 0.148421\n",
            "Average loss: 2.305398, Train accuracy: 0.143501, Val accuracy: 0.148421\n",
            "Average loss: 2.303406, Train accuracy: 0.143501, Val accuracy: 0.148467\n",
            "Average loss: 2.301433, Train accuracy: 0.143501, Val accuracy: 0.148444\n",
            "Average loss: 2.299564, Train accuracy: 0.143501, Val accuracy: 0.148427\n",
            "Average loss: 2.297750, Train accuracy: 0.143501, Val accuracy: 0.148461\n",
            "Average loss: 2.295983, Train accuracy: 0.143501, Val accuracy: 0.148444\n",
            "Average loss: 2.294272, Train accuracy: 0.143501, Val accuracy: 0.148450\n",
            "Average loss: 2.292628, Train accuracy: 0.143501, Val accuracy: 0.148467\n",
            "Average loss: 2.235534, Train accuracy: 0.195987, Val accuracy: 0.184413\n",
            "Average loss: 2.241402, Train accuracy: 0.189690, Val accuracy: 0.184413\n",
            "Average loss: 2.241618, Train accuracy: 0.189622, Val accuracy: 0.184437\n",
            "Average loss: 2.240948, Train accuracy: 0.189162, Val accuracy: 0.184425\n",
            "Average loss: 2.241909, Train accuracy: 0.189827, Val accuracy: 0.184408\n",
            "Average loss: 2.241918, Train accuracy: 0.190083, Val accuracy: 0.184413\n",
            "Average loss: 2.241657, Train accuracy: 0.189929, Val accuracy: 0.184460\n",
            "Average loss: 2.241766, Train accuracy: 0.190100, Val accuracy: 0.184408\n",
            "Average loss: 2.241382, Train accuracy: 0.189878, Val accuracy: 0.184408\n",
            "Average loss: 2.241744, Train accuracy: 0.189042, Val accuracy: 0.184408\n",
            "Average loss: nan, Train accuracy: 0.078388, Val accuracy: 0.069147\n",
            "Average loss: nan, Train accuracy: 0.067143, Val accuracy: 0.069147\n",
            "Average loss: nan, Train accuracy: 0.067143, Val accuracy: 0.069142\n",
            "Average loss: nan, Train accuracy: 0.067143, Val accuracy: 0.069159\n",
            "Average loss: nan, Train accuracy: 0.067143, Val accuracy: 0.069136\n",
            "Average loss: nan, Train accuracy: 0.067143, Val accuracy: 0.069176\n",
            "Average loss: nan, Train accuracy: 0.067143, Val accuracy: 0.069142\n",
            "Average loss: nan, Train accuracy: 0.067143, Val accuracy: 0.069165\n",
            "Average loss: nan, Train accuracy: 0.067143, Val accuracy: 0.069147\n",
            "Average loss: nan, Train accuracy: 0.067143, Val accuracy: 0.069165\n",
            "Average loss: 1.282969, Train accuracy: 0.572518, Val accuracy: 0.827100\n",
            "Average loss: 0.565563, Train accuracy: 0.828601, Val accuracy: 0.864048\n",
            "Average loss: 0.469898, Train accuracy: 0.859571, Val accuracy: 0.856003\n",
            "Average loss: 0.419837, Train accuracy: 0.874057, Val accuracy: 0.887366\n",
            "Average loss: 0.388086, Train accuracy: 0.883032, Val accuracy: 0.885609\n",
            "Average loss: 0.296935, Train accuracy: 0.912432, Val accuracy: 0.903776\n",
            "Average loss: 0.278879, Train accuracy: 0.917432, Val accuracy: 0.905789\n",
            "Average loss: 0.270993, Train accuracy: 0.919838, Val accuracy: 0.907716\n",
            "Average loss: 0.260632, Train accuracy: 0.922807, Val accuracy: 0.910196\n",
            "Average loss: 0.252452, Train accuracy: 0.924683, Val accuracy: 0.910531\n",
            "Average loss: 1.384292, Train accuracy: 0.532437, Val accuracy: 0.832826\n",
            "Average loss: 0.552549, Train accuracy: 0.836791, Val accuracy: 0.860358\n",
            "Average loss: 0.462540, Train accuracy: 0.863222, Val accuracy: 0.876944\n",
            "Average loss: 0.416287, Train accuracy: 0.876736, Val accuracy: 0.882448\n",
            "Average loss: 0.378691, Train accuracy: 0.887998, Val accuracy: 0.891744\n",
            "Average loss: 0.294371, Train accuracy: 0.914002, Val accuracy: 0.905550\n",
            "Average loss: 0.275824, Train accuracy: 0.919513, Val accuracy: 0.908211\n",
            "Average loss: 0.266737, Train accuracy: 0.920895, Val accuracy: 0.909194\n",
            "Average loss: 0.256225, Train accuracy: 0.924496, Val accuracy: 0.912294\n",
            "Average loss: 0.248251, Train accuracy: 0.927260, Val accuracy: 0.913602\n",
            "Average loss: 2.294330, Train accuracy: 0.121575, Val accuracy: 0.165235\n",
            "Average loss: 2.277210, Train accuracy: 0.189690, Val accuracy: 0.184402\n",
            "Average loss: 2.262293, Train accuracy: 0.190407, Val accuracy: 0.184454\n",
            "Average loss: 2.249264, Train accuracy: 0.190407, Val accuracy: 0.184448\n",
            "Average loss: 2.241681, Train accuracy: 0.190407, Val accuracy: 0.184425\n",
            "Average loss: 2.239132, Train accuracy: 0.190407, Val accuracy: 0.184454\n",
            "Average loss: 2.237941, Train accuracy: 0.190407, Val accuracy: 0.184408\n",
            "Average loss: 2.236997, Train accuracy: 0.190407, Val accuracy: 0.184396\n",
            "Average loss: 2.236533, Train accuracy: 0.190407, Val accuracy: 0.184425\n",
            "Average loss: 2.235870, Train accuracy: 0.190407, Val accuracy: 0.184408\n"
          ],
          "name": "stdout"
        }
      ]
    },
    {
      "cell_type": "code",
      "metadata": {
        "colab_type": "code",
        "id": "Y6xExdw8JB1l",
        "colab": {
          "base_uri": "https://localhost:8080/",
          "height": 34
        },
        "outputId": "cd2b1b05-3186-4e49-b074-0d8a99033dbf"
      },
      "source": [
        "best_val_accuracy = None\n",
        "best_hyperparams = None\n",
        "best_run = None\n",
        "\n",
        "for hyperparams, run_result in run_record.items():\n",
        "    if best_val_accuracy is None or best_val_accuracy < run_result.final_val_accuracy:\n",
        "        best_val_accuracy = run_result.final_val_accuracy\n",
        "        best_hyperparams = hyperparams\n",
        "        best_run = run_result\n",
        "        \n",
        "print(\"Best validation accuracy: %4.2f, best hyperparams: %s\" % (best_val_accuracy, best_hyperparams))\n",
        "        "
      ],
      "execution_count": 19,
      "outputs": [
        {
          "output_type": "stream",
          "text": [
            "Best validation accuracy: 0.91, best hyperparams: Hyperparams(learning_rate=0.1, anneal_epochs=5, reg=1e-07)\n"
          ],
          "name": "stdout"
        }
      ]
    },
    {
      "cell_type": "markdown",
      "metadata": {
        "colab_type": "text",
        "id": "LOmsR0uVgtgf"
      },
      "source": [
        "# Свободное упражнение - догоним и перегоним LeNet!\n",
        "\n",
        "Попробуйте найти архитектуру и настройки тренировки, чтобы выступить лучше наших бейзлайнов.\n",
        "\n",
        "Что можно и нужно попробовать:\n",
        "- BatchNormalization (для convolution layers он в PyTorch называется [batchnorm2d](https://pytorch.org/docs/stable/nn.html#batchnorm2d))\n",
        "- Изменить количество слоев и их толщину\n",
        "- Изменять количество эпох тренировки\n",
        "- Попробовать и другие агментации"
      ]
    },
    {
      "cell_type": "code",
      "metadata": {
        "colab_type": "code",
        "id": "tSVhD747icoc",
        "colab": {}
      },
      "source": [
        "best_model = None"
      ],
      "execution_count": 0,
      "outputs": []
    },
    {
      "cell_type": "markdown",
      "metadata": {
        "colab_type": "text",
        "id": "ubeKgBcnhx7N"
      },
      "source": [
        "# Финальный аккорд - проверим лучшую модель на test set\n",
        "\n",
        "В качестве разнообразия - напишите код для прогона модели на test set вы.\n",
        "\n",
        "В результате вы должны натренировать модель, которая покажет более **90%** точности на test set.  \n",
        "Как водится, лучший результат в группе получит дополнительные баллы!"
      ]
    },
    {
      "cell_type": "code",
      "metadata": {
        "colab_type": "code",
        "id": "EIqM1kdeh-hd",
        "colab": {}
      },
      "source": [
        "# TODO Write the code to compute accuracy on test set\n",
        "final_test_accuracy = 0.0\n",
        "print(\"Final test accuracy - \", final_test_accuracy)"
      ],
      "execution_count": 0,
      "outputs": []
    },
    {
      "cell_type": "code",
      "metadata": {
        "colab_type": "code",
        "id": "BfH6qip6kVX_",
        "colab": {}
      },
      "source": [
        ""
      ],
      "execution_count": 0,
      "outputs": []
    }
  ]
}